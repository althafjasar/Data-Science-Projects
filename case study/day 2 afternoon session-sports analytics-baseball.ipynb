{
 "cells": [
  {
   "cell_type": "code",
   "execution_count": 1,
   "metadata": {},
   "outputs": [],
   "source": [
    "import numpy as np\n",
    "import pandas as pd\n",
    "import seaborn as sns\n",
    "import matplotlib.pyplot as plt\n",
    "from sklearn.metrics import roc_curve, auc\n",
    "from sklearn.metrics import confusion_matrix\n",
    "from sklearn.metrics import classification_report\n",
    "from sklearn.model_selection import KFold, cross_val_score\n",
    "from sklearn.model_selection import train_test_split, GridSearchCV\n",
    "from sklearn.ensemble import RandomForestClassifier \n",
    "import warnings\n",
    "warnings.filterwarnings(\"ignore\")"
   ]
  },
  {
   "cell_type": "code",
   "execution_count": 2,
   "metadata": {},
   "outputs": [],
   "source": [
    "#RA-RUNS ALLOWED\n",
    "#RS-RUNS SCORED\n",
    "#OBP-ON BASE PERCENTAGE--SHOULD BE HIGHER\n",
    "#SLG-SLUGGING PERCENTAGE--SHOULD BE HIGHER\n",
    "#BA-BATTING AVERAGE\n",
    "#OOBP-OPPONENTS OBP\n",
    "#OSLG-OPPONENTS SLG\n",
    "#W-NO OF WINS IN THAT SEASON"
   ]
  },
  {
   "cell_type": "code",
   "execution_count": 3,
   "metadata": {},
   "outputs": [],
   "source": [
    "pd.set_option('display.max_rows', 500)\n",
    "pd.set_option('display.max_columns', 500)"
   ]
  },
  {
   "cell_type": "code",
   "execution_count": 2,
   "metadata": {},
   "outputs": [
    {
     "data": {
      "text/html": [
       "<div>\n",
       "<style scoped>\n",
       "    .dataframe tbody tr th:only-of-type {\n",
       "        vertical-align: middle;\n",
       "    }\n",
       "\n",
       "    .dataframe tbody tr th {\n",
       "        vertical-align: top;\n",
       "    }\n",
       "\n",
       "    .dataframe thead th {\n",
       "        text-align: right;\n",
       "    }\n",
       "</style>\n",
       "<table border=\"1\" class=\"dataframe\">\n",
       "  <thead>\n",
       "    <tr style=\"text-align: right;\">\n",
       "      <th></th>\n",
       "      <th>Team</th>\n",
       "      <th>League</th>\n",
       "      <th>Year</th>\n",
       "      <th>RS</th>\n",
       "      <th>RA</th>\n",
       "      <th>W</th>\n",
       "      <th>OBP</th>\n",
       "      <th>SLG</th>\n",
       "      <th>BA</th>\n",
       "      <th>Playoffs</th>\n",
       "      <th>RankSeason</th>\n",
       "      <th>RankPlayoffs</th>\n",
       "      <th>G</th>\n",
       "      <th>OOBP</th>\n",
       "      <th>OSLG</th>\n",
       "    </tr>\n",
       "  </thead>\n",
       "  <tbody>\n",
       "    <tr>\n",
       "      <th>0</th>\n",
       "      <td>ARI</td>\n",
       "      <td>NL</td>\n",
       "      <td>2012</td>\n",
       "      <td>734</td>\n",
       "      <td>688</td>\n",
       "      <td>81</td>\n",
       "      <td>0.328</td>\n",
       "      <td>0.418</td>\n",
       "      <td>0.259</td>\n",
       "      <td>0</td>\n",
       "      <td>NaN</td>\n",
       "      <td>NaN</td>\n",
       "      <td>162</td>\n",
       "      <td>0.317</td>\n",
       "      <td>0.415</td>\n",
       "    </tr>\n",
       "    <tr>\n",
       "      <th>1</th>\n",
       "      <td>ATL</td>\n",
       "      <td>NL</td>\n",
       "      <td>2012</td>\n",
       "      <td>700</td>\n",
       "      <td>600</td>\n",
       "      <td>94</td>\n",
       "      <td>0.320</td>\n",
       "      <td>0.389</td>\n",
       "      <td>0.247</td>\n",
       "      <td>1</td>\n",
       "      <td>4.0</td>\n",
       "      <td>5.0</td>\n",
       "      <td>162</td>\n",
       "      <td>0.306</td>\n",
       "      <td>0.378</td>\n",
       "    </tr>\n",
       "    <tr>\n",
       "      <th>2</th>\n",
       "      <td>BAL</td>\n",
       "      <td>AL</td>\n",
       "      <td>2012</td>\n",
       "      <td>712</td>\n",
       "      <td>705</td>\n",
       "      <td>93</td>\n",
       "      <td>0.311</td>\n",
       "      <td>0.417</td>\n",
       "      <td>0.247</td>\n",
       "      <td>1</td>\n",
       "      <td>5.0</td>\n",
       "      <td>4.0</td>\n",
       "      <td>162</td>\n",
       "      <td>0.315</td>\n",
       "      <td>0.403</td>\n",
       "    </tr>\n",
       "    <tr>\n",
       "      <th>3</th>\n",
       "      <td>BOS</td>\n",
       "      <td>AL</td>\n",
       "      <td>2012</td>\n",
       "      <td>734</td>\n",
       "      <td>806</td>\n",
       "      <td>69</td>\n",
       "      <td>0.315</td>\n",
       "      <td>0.415</td>\n",
       "      <td>0.260</td>\n",
       "      <td>0</td>\n",
       "      <td>NaN</td>\n",
       "      <td>NaN</td>\n",
       "      <td>162</td>\n",
       "      <td>0.331</td>\n",
       "      <td>0.428</td>\n",
       "    </tr>\n",
       "    <tr>\n",
       "      <th>4</th>\n",
       "      <td>CHC</td>\n",
       "      <td>NL</td>\n",
       "      <td>2012</td>\n",
       "      <td>613</td>\n",
       "      <td>759</td>\n",
       "      <td>61</td>\n",
       "      <td>0.302</td>\n",
       "      <td>0.378</td>\n",
       "      <td>0.240</td>\n",
       "      <td>0</td>\n",
       "      <td>NaN</td>\n",
       "      <td>NaN</td>\n",
       "      <td>162</td>\n",
       "      <td>0.335</td>\n",
       "      <td>0.424</td>\n",
       "    </tr>\n",
       "  </tbody>\n",
       "</table>\n",
       "</div>"
      ],
      "text/plain": [
       "  Team League  Year   RS   RA   W    OBP    SLG     BA  Playoffs  RankSeason  \\\n",
       "0  ARI     NL  2012  734  688  81  0.328  0.418  0.259         0         NaN   \n",
       "1  ATL     NL  2012  700  600  94  0.320  0.389  0.247         1         4.0   \n",
       "2  BAL     AL  2012  712  705  93  0.311  0.417  0.247         1         5.0   \n",
       "3  BOS     AL  2012  734  806  69  0.315  0.415  0.260         0         NaN   \n",
       "4  CHC     NL  2012  613  759  61  0.302  0.378  0.240         0         NaN   \n",
       "\n",
       "   RankPlayoffs    G   OOBP   OSLG  \n",
       "0           NaN  162  0.317  0.415  \n",
       "1           5.0  162  0.306  0.378  \n",
       "2           4.0  162  0.315  0.403  \n",
       "3           NaN  162  0.331  0.428  \n",
       "4           NaN  162  0.335  0.424  "
      ]
     },
     "execution_count": 2,
     "metadata": {},
     "output_type": "execute_result"
    }
   ],
   "source": [
    "#loading data\n",
    "df=pd.read_csv('baseball.csv')\n",
    "df.head(5)"
   ]
  },
  {
   "cell_type": "code",
   "execution_count": 3,
   "metadata": {
    "scrolled": true
   },
   "outputs": [
    {
     "data": {
      "text/html": [
       "<div>\n",
       "<style scoped>\n",
       "    .dataframe tbody tr th:only-of-type {\n",
       "        vertical-align: middle;\n",
       "    }\n",
       "\n",
       "    .dataframe tbody tr th {\n",
       "        vertical-align: top;\n",
       "    }\n",
       "\n",
       "    .dataframe thead th {\n",
       "        text-align: right;\n",
       "    }\n",
       "</style>\n",
       "<table border=\"1\" class=\"dataframe\">\n",
       "  <thead>\n",
       "    <tr style=\"text-align: right;\">\n",
       "      <th></th>\n",
       "      <th>Team</th>\n",
       "      <th>League</th>\n",
       "      <th>Year</th>\n",
       "      <th>RS</th>\n",
       "      <th>RA</th>\n",
       "      <th>W</th>\n",
       "      <th>OBP</th>\n",
       "      <th>SLG</th>\n",
       "      <th>BA</th>\n",
       "      <th>Playoffs</th>\n",
       "      <th>RankSeason</th>\n",
       "      <th>RankPlayoffs</th>\n",
       "      <th>G</th>\n",
       "      <th>OOBP</th>\n",
       "      <th>OSLG</th>\n",
       "      <th>RD</th>\n",
       "    </tr>\n",
       "  </thead>\n",
       "  <tbody>\n",
       "    <tr>\n",
       "      <th>0</th>\n",
       "      <td>ARI</td>\n",
       "      <td>NL</td>\n",
       "      <td>2012</td>\n",
       "      <td>734</td>\n",
       "      <td>688</td>\n",
       "      <td>81</td>\n",
       "      <td>0.328</td>\n",
       "      <td>0.418</td>\n",
       "      <td>0.259</td>\n",
       "      <td>0</td>\n",
       "      <td>NaN</td>\n",
       "      <td>NaN</td>\n",
       "      <td>162</td>\n",
       "      <td>0.317</td>\n",
       "      <td>0.415</td>\n",
       "      <td>46</td>\n",
       "    </tr>\n",
       "    <tr>\n",
       "      <th>1</th>\n",
       "      <td>ATL</td>\n",
       "      <td>NL</td>\n",
       "      <td>2012</td>\n",
       "      <td>700</td>\n",
       "      <td>600</td>\n",
       "      <td>94</td>\n",
       "      <td>0.320</td>\n",
       "      <td>0.389</td>\n",
       "      <td>0.247</td>\n",
       "      <td>1</td>\n",
       "      <td>4.0</td>\n",
       "      <td>5.0</td>\n",
       "      <td>162</td>\n",
       "      <td>0.306</td>\n",
       "      <td>0.378</td>\n",
       "      <td>100</td>\n",
       "    </tr>\n",
       "    <tr>\n",
       "      <th>2</th>\n",
       "      <td>BAL</td>\n",
       "      <td>AL</td>\n",
       "      <td>2012</td>\n",
       "      <td>712</td>\n",
       "      <td>705</td>\n",
       "      <td>93</td>\n",
       "      <td>0.311</td>\n",
       "      <td>0.417</td>\n",
       "      <td>0.247</td>\n",
       "      <td>1</td>\n",
       "      <td>5.0</td>\n",
       "      <td>4.0</td>\n",
       "      <td>162</td>\n",
       "      <td>0.315</td>\n",
       "      <td>0.403</td>\n",
       "      <td>7</td>\n",
       "    </tr>\n",
       "    <tr>\n",
       "      <th>3</th>\n",
       "      <td>BOS</td>\n",
       "      <td>AL</td>\n",
       "      <td>2012</td>\n",
       "      <td>734</td>\n",
       "      <td>806</td>\n",
       "      <td>69</td>\n",
       "      <td>0.315</td>\n",
       "      <td>0.415</td>\n",
       "      <td>0.260</td>\n",
       "      <td>0</td>\n",
       "      <td>NaN</td>\n",
       "      <td>NaN</td>\n",
       "      <td>162</td>\n",
       "      <td>0.331</td>\n",
       "      <td>0.428</td>\n",
       "      <td>-72</td>\n",
       "    </tr>\n",
       "    <tr>\n",
       "      <th>4</th>\n",
       "      <td>CHC</td>\n",
       "      <td>NL</td>\n",
       "      <td>2012</td>\n",
       "      <td>613</td>\n",
       "      <td>759</td>\n",
       "      <td>61</td>\n",
       "      <td>0.302</td>\n",
       "      <td>0.378</td>\n",
       "      <td>0.240</td>\n",
       "      <td>0</td>\n",
       "      <td>NaN</td>\n",
       "      <td>NaN</td>\n",
       "      <td>162</td>\n",
       "      <td>0.335</td>\n",
       "      <td>0.424</td>\n",
       "      <td>-146</td>\n",
       "    </tr>\n",
       "  </tbody>\n",
       "</table>\n",
       "</div>"
      ],
      "text/plain": [
       "  Team League  Year   RS   RA   W    OBP    SLG     BA  Playoffs  RankSeason  \\\n",
       "0  ARI     NL  2012  734  688  81  0.328  0.418  0.259         0         NaN   \n",
       "1  ATL     NL  2012  700  600  94  0.320  0.389  0.247         1         4.0   \n",
       "2  BAL     AL  2012  712  705  93  0.311  0.417  0.247         1         5.0   \n",
       "3  BOS     AL  2012  734  806  69  0.315  0.415  0.260         0         NaN   \n",
       "4  CHC     NL  2012  613  759  61  0.302  0.378  0.240         0         NaN   \n",
       "\n",
       "   RankPlayoffs    G   OOBP   OSLG   RD  \n",
       "0           NaN  162  0.317  0.415   46  \n",
       "1           5.0  162  0.306  0.378  100  \n",
       "2           4.0  162  0.315  0.403    7  \n",
       "3           NaN  162  0.331  0.428  -72  \n",
       "4           NaN  162  0.335  0.424 -146  "
      ]
     },
     "execution_count": 3,
     "metadata": {},
     "output_type": "execute_result"
    }
   ],
   "source": [
    "#adddind 'RD' column\n",
    "df['RD']=df['RS']-df['RA']\n",
    "df.head(5)"
   ]
  },
  {
   "cell_type": "code",
   "execution_count": 6,
   "metadata": {},
   "outputs": [
    {
     "data": {
      "text/plain": [
       "(1232, 16)"
      ]
     },
     "execution_count": 6,
     "metadata": {},
     "output_type": "execute_result"
    }
   ],
   "source": [
    "df.shape"
   ]
  },
  {
   "cell_type": "code",
   "execution_count": 7,
   "metadata": {
    "scrolled": true
   },
   "outputs": [
    {
     "data": {
      "text/html": [
       "<div>\n",
       "<style scoped>\n",
       "    .dataframe tbody tr th:only-of-type {\n",
       "        vertical-align: middle;\n",
       "    }\n",
       "\n",
       "    .dataframe tbody tr th {\n",
       "        vertical-align: top;\n",
       "    }\n",
       "\n",
       "    .dataframe thead th {\n",
       "        text-align: right;\n",
       "    }\n",
       "</style>\n",
       "<table border=\"1\" class=\"dataframe\">\n",
       "  <thead>\n",
       "    <tr style=\"text-align: right;\">\n",
       "      <th></th>\n",
       "      <th>Team</th>\n",
       "      <th>League</th>\n",
       "      <th>Year</th>\n",
       "      <th>RS</th>\n",
       "      <th>RA</th>\n",
       "      <th>W</th>\n",
       "      <th>OBP</th>\n",
       "      <th>SLG</th>\n",
       "      <th>BA</th>\n",
       "      <th>Playoffs</th>\n",
       "      <th>RankSeason</th>\n",
       "      <th>RankPlayoffs</th>\n",
       "      <th>G</th>\n",
       "      <th>OOBP</th>\n",
       "      <th>OSLG</th>\n",
       "      <th>RD</th>\n",
       "    </tr>\n",
       "  </thead>\n",
       "  <tbody>\n",
       "    <tr>\n",
       "      <th>330</th>\n",
       "      <td>ANA</td>\n",
       "      <td>AL</td>\n",
       "      <td>2001</td>\n",
       "      <td>691</td>\n",
       "      <td>730</td>\n",
       "      <td>75</td>\n",
       "      <td>0.327</td>\n",
       "      <td>0.405</td>\n",
       "      <td>0.261</td>\n",
       "      <td>0</td>\n",
       "      <td>NaN</td>\n",
       "      <td>NaN</td>\n",
       "      <td>162</td>\n",
       "      <td>0.331</td>\n",
       "      <td>0.412</td>\n",
       "      <td>-39</td>\n",
       "    </tr>\n",
       "    <tr>\n",
       "      <th>331</th>\n",
       "      <td>ARI</td>\n",
       "      <td>NL</td>\n",
       "      <td>2001</td>\n",
       "      <td>818</td>\n",
       "      <td>677</td>\n",
       "      <td>92</td>\n",
       "      <td>0.341</td>\n",
       "      <td>0.442</td>\n",
       "      <td>0.267</td>\n",
       "      <td>1</td>\n",
       "      <td>5.0</td>\n",
       "      <td>1.0</td>\n",
       "      <td>162</td>\n",
       "      <td>0.311</td>\n",
       "      <td>0.404</td>\n",
       "      <td>141</td>\n",
       "    </tr>\n",
       "    <tr>\n",
       "      <th>332</th>\n",
       "      <td>ATL</td>\n",
       "      <td>NL</td>\n",
       "      <td>2001</td>\n",
       "      <td>729</td>\n",
       "      <td>643</td>\n",
       "      <td>88</td>\n",
       "      <td>0.324</td>\n",
       "      <td>0.412</td>\n",
       "      <td>0.260</td>\n",
       "      <td>1</td>\n",
       "      <td>7.0</td>\n",
       "      <td>3.0</td>\n",
       "      <td>162</td>\n",
       "      <td>0.314</td>\n",
       "      <td>0.384</td>\n",
       "      <td>86</td>\n",
       "    </tr>\n",
       "    <tr>\n",
       "      <th>333</th>\n",
       "      <td>BAL</td>\n",
       "      <td>AL</td>\n",
       "      <td>2001</td>\n",
       "      <td>687</td>\n",
       "      <td>829</td>\n",
       "      <td>63</td>\n",
       "      <td>0.319</td>\n",
       "      <td>0.380</td>\n",
       "      <td>0.248</td>\n",
       "      <td>0</td>\n",
       "      <td>NaN</td>\n",
       "      <td>NaN</td>\n",
       "      <td>162</td>\n",
       "      <td>0.337</td>\n",
       "      <td>0.439</td>\n",
       "      <td>-142</td>\n",
       "    </tr>\n",
       "    <tr>\n",
       "      <th>334</th>\n",
       "      <td>BOS</td>\n",
       "      <td>AL</td>\n",
       "      <td>2001</td>\n",
       "      <td>772</td>\n",
       "      <td>745</td>\n",
       "      <td>82</td>\n",
       "      <td>0.334</td>\n",
       "      <td>0.439</td>\n",
       "      <td>0.266</td>\n",
       "      <td>0</td>\n",
       "      <td>NaN</td>\n",
       "      <td>NaN</td>\n",
       "      <td>161</td>\n",
       "      <td>0.329</td>\n",
       "      <td>0.393</td>\n",
       "      <td>27</td>\n",
       "    </tr>\n",
       "  </tbody>\n",
       "</table>\n",
       "</div>"
      ],
      "text/plain": [
       "    Team League  Year   RS   RA   W    OBP    SLG     BA  Playoffs  \\\n",
       "330  ANA     AL  2001  691  730  75  0.327  0.405  0.261         0   \n",
       "331  ARI     NL  2001  818  677  92  0.341  0.442  0.267         1   \n",
       "332  ATL     NL  2001  729  643  88  0.324  0.412  0.260         1   \n",
       "333  BAL     AL  2001  687  829  63  0.319  0.380  0.248         0   \n",
       "334  BOS     AL  2001  772  745  82  0.334  0.439  0.266         0   \n",
       "\n",
       "     RankSeason  RankPlayoffs    G   OOBP   OSLG   RD  \n",
       "330         NaN           NaN  162  0.331  0.412  -39  \n",
       "331         5.0           1.0  162  0.311  0.404  141  \n",
       "332         7.0           3.0  162  0.314  0.384   86  \n",
       "333         NaN           NaN  162  0.337  0.439 -142  \n",
       "334         NaN           NaN  161  0.329  0.393   27  "
      ]
     },
     "execution_count": 7,
     "metadata": {},
     "output_type": "execute_result"
    }
   ],
   "source": [
    "#filtering out data before'2002' till 2002\n",
    "df1=df[df['Year']<2002]\n",
    "df1.head()"
   ]
  },
  {
   "cell_type": "code",
   "execution_count": 8,
   "metadata": {},
   "outputs": [
    {
     "data": {
      "text/plain": [
       "(902, 16)"
      ]
     },
     "execution_count": 8,
     "metadata": {},
     "output_type": "execute_result"
    }
   ],
   "source": [
    "df1.shape"
   ]
  },
  {
   "cell_type": "code",
   "execution_count": 9,
   "metadata": {},
   "outputs": [
    {
     "data": {
      "text/plain": [
       "Year                AxesSubplot(0.125,0.71587;0.168478x0.16413)\n",
       "RS               AxesSubplot(0.327174,0.71587;0.168478x0.16413)\n",
       "RA               AxesSubplot(0.529348,0.71587;0.168478x0.16413)\n",
       "W                AxesSubplot(0.731522,0.71587;0.168478x0.16413)\n",
       "OBP                AxesSubplot(0.125,0.518913;0.168478x0.16413)\n",
       "SLG             AxesSubplot(0.327174,0.518913;0.168478x0.16413)\n",
       "BA              AxesSubplot(0.529348,0.518913;0.168478x0.16413)\n",
       "Playoffs        AxesSubplot(0.731522,0.518913;0.168478x0.16413)\n",
       "RankSeason         AxesSubplot(0.125,0.321957;0.168478x0.16413)\n",
       "RankPlayoffs    AxesSubplot(0.327174,0.321957;0.168478x0.16413)\n",
       "G               AxesSubplot(0.529348,0.321957;0.168478x0.16413)\n",
       "OOBP            AxesSubplot(0.731522,0.321957;0.168478x0.16413)\n",
       "OSLG                  AxesSubplot(0.125,0.125;0.168478x0.16413)\n",
       "RD                 AxesSubplot(0.327174,0.125;0.168478x0.16413)\n",
       "dtype: object"
      ]
     },
     "execution_count": 9,
     "metadata": {},
     "output_type": "execute_result"
    },
    {
     "data": {
      "image/png": "[encoded data removed]",
      "text/plain": [
       "<Figure size 1080x1296 with 16 Axes>"
      ]
     },
     "metadata": {
      "needs_background": "light"
     },
     "output_type": "display_data"
    }
   ],
   "source": [
    "df1.plot(kind='box',subplots=True,layout=(4,4),sharex=False,sharey=False,grid=True,figsize=(15,18))"
   ]
  },
  {
   "cell_type": "code",
   "execution_count": 10,
   "metadata": {},
   "outputs": [
    {
     "data": {
      "text/plain": [
       "array([[<matplotlib.axes._subplots.AxesSubplot object at 0x0000028A92BF4358>,\n",
       "        <matplotlib.axes._subplots.AxesSubplot object at 0x0000028A92CAC080>,\n",
       "        <matplotlib.axes._subplots.AxesSubplot object at 0x0000028A92CD0630>,\n",
       "        <matplotlib.axes._subplots.AxesSubplot object at 0x0000028A9263FBE0>],\n",
       "       [<matplotlib.axes._subplots.AxesSubplot object at 0x0000028A9267C1D0>,\n",
       "        <matplotlib.axes._subplots.AxesSubplot object at 0x0000028A926AD780>,\n",
       "        <matplotlib.axes._subplots.AxesSubplot object at 0x0000028A926DDD30>,\n",
       "        <matplotlib.axes._subplots.AxesSubplot object at 0x0000028A9271B358>],\n",
       "       [<matplotlib.axes._subplots.AxesSubplot object at 0x0000028A9271B390>,\n",
       "        <matplotlib.axes._subplots.AxesSubplot object at 0x0000028A92781E48>,\n",
       "        <matplotlib.axes._subplots.AxesSubplot object at 0x0000028A927BE438>,\n",
       "        <matplotlib.axes._subplots.AxesSubplot object at 0x0000028A927ED9E8>],\n",
       "       [<matplotlib.axes._subplots.AxesSubplot object at 0x0000028A92822F98>,\n",
       "        <matplotlib.axes._subplots.AxesSubplot object at 0x0000028A9285B588>,\n",
       "        <matplotlib.axes._subplots.AxesSubplot object at 0x0000028A9288EB38>,\n",
       "        <matplotlib.axes._subplots.AxesSubplot object at 0x0000028A928CE128>]],\n",
       "      dtype=object)"
      ]
     },
     "execution_count": 10,
     "metadata": {},
     "output_type": "execute_result"
    },
    {
     "data": {
      "image/png": "[encoded data removed]",
      "text/plain": [
       "<Figure size 1080x1296 with 16 Axes>"
      ]
     },
     "metadata": {
      "needs_background": "light"
     },
     "output_type": "display_data"
    }
   ],
   "source": [
    "df1.plot(kind='kde',subplots=True,layout=(4,4),sharex=False,sharey=False,grid=True,figsize=(15,18))"
   ]
  },
  {
   "cell_type": "code",
   "execution_count": 11,
   "metadata": {
    "scrolled": true
   },
   "outputs": [
    {
     "data": {
      "text/plain": [
       "<matplotlib.lines.Line2D at 0x28a92a4a4a8>"
      ]
     },
     "execution_count": 11,
     "metadata": {},
     "output_type": "execute_result"
    },
    {
     "data": {
      "image/png": "[encoded data removed]",
      "text/plain": [
       "<Figure size 432x288 with 1 Axes>"
      ]
     },
     "metadata": {
      "needs_background": "light"
     },
     "output_type": "display_data"
    }
   ],
   "source": [
    "sns.scatterplot(df1.W,df1.RS,hue=df.Playoffs)\n",
    "plt.axvline(90)"
   ]
  },
  {
   "cell_type": "code",
   "execution_count": 12,
   "metadata": {
    "scrolled": true
   },
   "outputs": [
    {
     "data": {
      "text/plain": [
       "<matplotlib.axes._subplots.AxesSubplot at 0x28a9309e940>"
      ]
     },
     "execution_count": 12,
     "metadata": {},
     "output_type": "execute_result"
    },
    {
     "data": {
      "image/png": "[encoded data removed]",
      "text/plain": [
       "<Figure size 432x288 with 1 Axes>"
      ]
     },
     "metadata": {
      "needs_background": "light"
     },
     "output_type": "display_data"
    }
   ],
   "source": [
    "sns.scatterplot(df1.W,df1.RD,hue=df.Playoffs)"
   ]
  },
  {
   "cell_type": "code",
   "execution_count": 13,
   "metadata": {},
   "outputs": [
    {
     "data": {
      "text/html": [
       "<div>\n",
       "<style scoped>\n",
       "    .dataframe tbody tr th:only-of-type {\n",
       "        vertical-align: middle;\n",
       "    }\n",
       "\n",
       "    .dataframe tbody tr th {\n",
       "        vertical-align: top;\n",
       "    }\n",
       "\n",
       "    .dataframe thead th {\n",
       "        text-align: right;\n",
       "    }\n",
       "</style>\n",
       "<table border=\"1\" class=\"dataframe\">\n",
       "  <thead>\n",
       "    <tr style=\"text-align: right;\">\n",
       "      <th></th>\n",
       "      <th>Team</th>\n",
       "      <th>League</th>\n",
       "      <th>Year</th>\n",
       "      <th>RS</th>\n",
       "      <th>RA</th>\n",
       "      <th>W</th>\n",
       "      <th>OBP</th>\n",
       "      <th>SLG</th>\n",
       "      <th>BA</th>\n",
       "      <th>Playoffs</th>\n",
       "      <th>RankSeason</th>\n",
       "      <th>RankPlayoffs</th>\n",
       "      <th>G</th>\n",
       "      <th>OOBP</th>\n",
       "      <th>OSLG</th>\n",
       "      <th>RD</th>\n",
       "    </tr>\n",
       "  </thead>\n",
       "  <tbody>\n",
       "    <tr>\n",
       "      <th>0</th>\n",
       "      <td>ARI</td>\n",
       "      <td>NL</td>\n",
       "      <td>2012</td>\n",
       "      <td>734</td>\n",
       "      <td>688</td>\n",
       "      <td>81</td>\n",
       "      <td>0.328</td>\n",
       "      <td>0.418</td>\n",
       "      <td>0.259</td>\n",
       "      <td>0</td>\n",
       "      <td>NaN</td>\n",
       "      <td>NaN</td>\n",
       "      <td>162</td>\n",
       "      <td>0.317</td>\n",
       "      <td>0.415</td>\n",
       "      <td>46</td>\n",
       "    </tr>\n",
       "    <tr>\n",
       "      <th>1</th>\n",
       "      <td>ATL</td>\n",
       "      <td>NL</td>\n",
       "      <td>2012</td>\n",
       "      <td>700</td>\n",
       "      <td>600</td>\n",
       "      <td>94</td>\n",
       "      <td>0.320</td>\n",
       "      <td>0.389</td>\n",
       "      <td>0.247</td>\n",
       "      <td>1</td>\n",
       "      <td>4.0</td>\n",
       "      <td>5.0</td>\n",
       "      <td>162</td>\n",
       "      <td>0.306</td>\n",
       "      <td>0.378</td>\n",
       "      <td>100</td>\n",
       "    </tr>\n",
       "    <tr>\n",
       "      <th>2</th>\n",
       "      <td>BAL</td>\n",
       "      <td>AL</td>\n",
       "      <td>2012</td>\n",
       "      <td>712</td>\n",
       "      <td>705</td>\n",
       "      <td>93</td>\n",
       "      <td>0.311</td>\n",
       "      <td>0.417</td>\n",
       "      <td>0.247</td>\n",
       "      <td>1</td>\n",
       "      <td>5.0</td>\n",
       "      <td>4.0</td>\n",
       "      <td>162</td>\n",
       "      <td>0.315</td>\n",
       "      <td>0.403</td>\n",
       "      <td>7</td>\n",
       "    </tr>\n",
       "    <tr>\n",
       "      <th>3</th>\n",
       "      <td>BOS</td>\n",
       "      <td>AL</td>\n",
       "      <td>2012</td>\n",
       "      <td>734</td>\n",
       "      <td>806</td>\n",
       "      <td>69</td>\n",
       "      <td>0.315</td>\n",
       "      <td>0.415</td>\n",
       "      <td>0.260</td>\n",
       "      <td>0</td>\n",
       "      <td>NaN</td>\n",
       "      <td>NaN</td>\n",
       "      <td>162</td>\n",
       "      <td>0.331</td>\n",
       "      <td>0.428</td>\n",
       "      <td>-72</td>\n",
       "    </tr>\n",
       "    <tr>\n",
       "      <th>4</th>\n",
       "      <td>CHC</td>\n",
       "      <td>NL</td>\n",
       "      <td>2012</td>\n",
       "      <td>613</td>\n",
       "      <td>759</td>\n",
       "      <td>61</td>\n",
       "      <td>0.302</td>\n",
       "      <td>0.378</td>\n",
       "      <td>0.240</td>\n",
       "      <td>0</td>\n",
       "      <td>NaN</td>\n",
       "      <td>NaN</td>\n",
       "      <td>162</td>\n",
       "      <td>0.335</td>\n",
       "      <td>0.424</td>\n",
       "      <td>-146</td>\n",
       "    </tr>\n",
       "  </tbody>\n",
       "</table>\n",
       "</div>"
      ],
      "text/plain": [
       "  Team League  Year   RS   RA   W    OBP    SLG     BA  Playoffs  RankSeason  \\\n",
       "0  ARI     NL  2012  734  688  81  0.328  0.418  0.259         0         NaN   \n",
       "1  ATL     NL  2012  700  600  94  0.320  0.389  0.247         1         4.0   \n",
       "2  BAL     AL  2012  712  705  93  0.311  0.417  0.247         1         5.0   \n",
       "3  BOS     AL  2012  734  806  69  0.315  0.415  0.260         0         NaN   \n",
       "4  CHC     NL  2012  613  759  61  0.302  0.378  0.240         0         NaN   \n",
       "\n",
       "   RankPlayoffs    G   OOBP   OSLG   RD  \n",
       "0           NaN  162  0.317  0.415   46  \n",
       "1           5.0  162  0.306  0.378  100  \n",
       "2           4.0  162  0.315  0.403    7  \n",
       "3           NaN  162  0.331  0.428  -72  \n",
       "4           NaN  162  0.335  0.424 -146  "
      ]
     },
     "execution_count": 13,
     "metadata": {},
     "output_type": "execute_result"
    }
   ],
   "source": [
    "df.head()"
   ]
  },
  {
   "cell_type": "raw",
   "metadata": {},
   "source": [
    "W = B0 + B1*RD\n",
    "RS = B0 +B1*OBP + B2*SLG\n",
    "RA = B0 +B1OOBP + B2*OSLG"
   ]
  },
  {
   "cell_type": "code",
   "execution_count": 14,
   "metadata": {
    "scrolled": true
   },
   "outputs": [
    {
     "data": {
      "text/plain": [
       "Team              0\n",
       "League            0\n",
       "Year              0\n",
       "RS                0\n",
       "RA                0\n",
       "W                 0\n",
       "OBP               0\n",
       "SLG               0\n",
       "BA                0\n",
       "Playoffs          0\n",
       "RankSeason      748\n",
       "RankPlayoffs    748\n",
       "G                 0\n",
       "OOBP            812\n",
       "OSLG            812\n",
       "RD                0\n",
       "dtype: int64"
      ]
     },
     "execution_count": 14,
     "metadata": {},
     "output_type": "execute_result"
    }
   ],
   "source": [
    "#checking for null value\n",
    "df1.isnull().sum()"
   ]
  },
  {
   "cell_type": "code",
   "execution_count": 15,
   "metadata": {},
   "outputs": [],
   "source": [
    "# dfsamp=df1.copy(deep=True)"
   ]
  },
  {
   "cell_type": "code",
   "execution_count": 16,
   "metadata": {},
   "outputs": [],
   "source": [
    "# dfsamp.fillna(df.dropna().median())"
   ]
  },
  {
   "cell_type": "code",
   "execution_count": 17,
   "metadata": {},
   "outputs": [],
   "source": [
    "# #imputing all missing values with median\n",
    "# from sklearn.preprocessing import Imputer\n",
    "# fv=Imputer(missing_values=np.nan,strategy='median',axis=0)\n",
    "# for i in df1.columns:\n",
    "#     df1[i]=fv.fit_transform(df1[[i]])"
   ]
  },
  {
   "cell_type": "code",
   "execution_count": null,
   "metadata": {},
   "outputs": [],
   "source": []
  },
  {
   "cell_type": "code",
   "execution_count": 18,
   "metadata": {},
   "outputs": [],
   "source": [
    "cols=['RankPlayoffs','RankSeason']\n",
    "for i in cols:\n",
    "    df1[i]=df[i].fillna(df[i].median())"
   ]
  },
  {
   "cell_type": "code",
   "execution_count": 19,
   "metadata": {},
   "outputs": [],
   "source": [
    "cols=['OOBP','OSLG']\n",
    "for i in cols:\n",
    "    df1[i]=df1[i].fillna(df1[i].dropna().sample().iloc[0])"
   ]
  },
  {
   "cell_type": "code",
   "execution_count": 20,
   "metadata": {},
   "outputs": [
    {
     "data": {
      "text/plain": [
       "Team            0\n",
       "League          0\n",
       "Year            0\n",
       "RS              0\n",
       "RA              0\n",
       "W               0\n",
       "OBP             0\n",
       "SLG             0\n",
       "BA              0\n",
       "Playoffs        0\n",
       "RankSeason      0\n",
       "RankPlayoffs    0\n",
       "G               0\n",
       "OOBP            0\n",
       "OSLG            0\n",
       "RD              0\n",
       "dtype: int64"
      ]
     },
     "execution_count": 20,
     "metadata": {},
     "output_type": "execute_result"
    }
   ],
   "source": [
    "#checking for null value\n",
    "df1.isnull().sum()"
   ]
  },
  {
   "cell_type": "code",
   "execution_count": 21,
   "metadata": {
    "scrolled": true
   },
   "outputs": [
    {
     "data": {
      "text/html": [
       "<div>\n",
       "<style scoped>\n",
       "    .dataframe tbody tr th:only-of-type {\n",
       "        vertical-align: middle;\n",
       "    }\n",
       "\n",
       "    .dataframe tbody tr th {\n",
       "        vertical-align: top;\n",
       "    }\n",
       "\n",
       "    .dataframe thead th {\n",
       "        text-align: right;\n",
       "    }\n",
       "</style>\n",
       "<table border=\"1\" class=\"dataframe\">\n",
       "  <thead>\n",
       "    <tr style=\"text-align: right;\">\n",
       "      <th></th>\n",
       "      <th>Year</th>\n",
       "      <th>RS</th>\n",
       "      <th>RA</th>\n",
       "      <th>W</th>\n",
       "      <th>OBP</th>\n",
       "      <th>SLG</th>\n",
       "      <th>BA</th>\n",
       "      <th>Playoffs</th>\n",
       "      <th>RankSeason</th>\n",
       "      <th>RankPlayoffs</th>\n",
       "      <th>G</th>\n",
       "      <th>OOBP</th>\n",
       "      <th>OSLG</th>\n",
       "      <th>RD</th>\n",
       "    </tr>\n",
       "  </thead>\n",
       "  <tbody>\n",
       "    <tr>\n",
       "      <th>count</th>\n",
       "      <td>902.000000</td>\n",
       "      <td>902.000000</td>\n",
       "      <td>902.000000</td>\n",
       "      <td>902.000000</td>\n",
       "      <td>902.000000</td>\n",
       "      <td>902.000000</td>\n",
       "      <td>902.000000</td>\n",
       "      <td>902.000000</td>\n",
       "      <td>902.000000</td>\n",
       "      <td>902.000000</td>\n",
       "      <td>902.000000</td>\n",
       "      <td>902.000000</td>\n",
       "      <td>902.000000</td>\n",
       "      <td>902.000000</td>\n",
       "    </tr>\n",
       "    <tr>\n",
       "      <th>mean</th>\n",
       "      <td>1982.356984</td>\n",
       "      <td>703.809313</td>\n",
       "      <td>703.809313</td>\n",
       "      <td>80.881375</td>\n",
       "      <td>0.324961</td>\n",
       "      <td>0.390412</td>\n",
       "      <td>0.258153</td>\n",
       "      <td>0.170732</td>\n",
       "      <td>2.964523</td>\n",
       "      <td>2.906874</td>\n",
       "      <td>161.906874</td>\n",
       "      <td>0.352651</td>\n",
       "      <td>0.449154</td>\n",
       "      <td>0.000000</td>\n",
       "    </tr>\n",
       "    <tr>\n",
       "      <th>std</th>\n",
       "      <td>11.556504</td>\n",
       "      <td>93.314579</td>\n",
       "      <td>93.784100</td>\n",
       "      <td>11.403424</td>\n",
       "      <td>0.015391</td>\n",
       "      <td>0.033110</td>\n",
       "      <td>0.013266</td>\n",
       "      <td>0.376483</td>\n",
       "      <td>0.646741</td>\n",
       "      <td>0.466619</td>\n",
       "      <td>0.702127</td>\n",
       "      <td>0.006318</td>\n",
       "      <td>0.009788</td>\n",
       "      <td>101.188684</td>\n",
       "    </tr>\n",
       "    <tr>\n",
       "      <th>min</th>\n",
       "      <td>1962.000000</td>\n",
       "      <td>463.000000</td>\n",
       "      <td>472.000000</td>\n",
       "      <td>40.000000</td>\n",
       "      <td>0.277000</td>\n",
       "      <td>0.301000</td>\n",
       "      <td>0.214000</td>\n",
       "      <td>0.000000</td>\n",
       "      <td>1.000000</td>\n",
       "      <td>1.000000</td>\n",
       "      <td>158.000000</td>\n",
       "      <td>0.301000</td>\n",
       "      <td>0.377000</td>\n",
       "      <td>-331.000000</td>\n",
       "    </tr>\n",
       "    <tr>\n",
       "      <th>25%</th>\n",
       "      <td>1973.000000</td>\n",
       "      <td>641.250000</td>\n",
       "      <td>640.000000</td>\n",
       "      <td>73.000000</td>\n",
       "      <td>0.314000</td>\n",
       "      <td>0.368000</td>\n",
       "      <td>0.250000</td>\n",
       "      <td>0.000000</td>\n",
       "      <td>3.000000</td>\n",
       "      <td>3.000000</td>\n",
       "      <td>162.000000</td>\n",
       "      <td>0.354000</td>\n",
       "      <td>0.451000</td>\n",
       "      <td>-70.750000</td>\n",
       "    </tr>\n",
       "    <tr>\n",
       "      <th>50%</th>\n",
       "      <td>1983.000000</td>\n",
       "      <td>695.000000</td>\n",
       "      <td>697.000000</td>\n",
       "      <td>81.000000</td>\n",
       "      <td>0.324000</td>\n",
       "      <td>0.388000</td>\n",
       "      <td>0.258000</td>\n",
       "      <td>0.000000</td>\n",
       "      <td>3.000000</td>\n",
       "      <td>3.000000</td>\n",
       "      <td>162.000000</td>\n",
       "      <td>0.354000</td>\n",
       "      <td>0.451000</td>\n",
       "      <td>3.000000</td>\n",
       "    </tr>\n",
       "    <tr>\n",
       "      <th>75%</th>\n",
       "      <td>1992.000000</td>\n",
       "      <td>761.750000</td>\n",
       "      <td>763.000000</td>\n",
       "      <td>89.000000</td>\n",
       "      <td>0.335000</td>\n",
       "      <td>0.411750</td>\n",
       "      <td>0.267000</td>\n",
       "      <td>0.000000</td>\n",
       "      <td>3.000000</td>\n",
       "      <td>3.000000</td>\n",
       "      <td>162.000000</td>\n",
       "      <td>0.354000</td>\n",
       "      <td>0.451000</td>\n",
       "      <td>69.750000</td>\n",
       "    </tr>\n",
       "    <tr>\n",
       "      <th>max</th>\n",
       "      <td>2001.000000</td>\n",
       "      <td>1009.000000</td>\n",
       "      <td>1103.000000</td>\n",
       "      <td>116.000000</td>\n",
       "      <td>0.373000</td>\n",
       "      <td>0.485000</td>\n",
       "      <td>0.294000</td>\n",
       "      <td>1.000000</td>\n",
       "      <td>8.000000</td>\n",
       "      <td>4.000000</td>\n",
       "      <td>165.000000</td>\n",
       "      <td>0.384000</td>\n",
       "      <td>0.499000</td>\n",
       "      <td>309.000000</td>\n",
       "    </tr>\n",
       "  </tbody>\n",
       "</table>\n",
       "</div>"
      ],
      "text/plain": [
       "              Year           RS           RA           W         OBP  \\\n",
       "count   902.000000   902.000000   902.000000  902.000000  902.000000   \n",
       "mean   1982.356984   703.809313   703.809313   80.881375    0.324961   \n",
       "std      11.556504    93.314579    93.784100   11.403424    0.015391   \n",
       "min    1962.000000   463.000000   472.000000   40.000000    0.277000   \n",
       "25%    1973.000000   641.250000   640.000000   73.000000    0.314000   \n",
       "50%    1983.000000   695.000000   697.000000   81.000000    0.324000   \n",
       "75%    1992.000000   761.750000   763.000000   89.000000    0.335000   \n",
       "max    2001.000000  1009.000000  1103.000000  116.000000    0.373000   \n",
       "\n",
       "              SLG          BA    Playoffs  RankSeason  RankPlayoffs  \\\n",
       "count  902.000000  902.000000  902.000000  902.000000    902.000000   \n",
       "mean     0.390412    0.258153    0.170732    2.964523      2.906874   \n",
       "std      0.033110    0.013266    0.376483    0.646741      0.466619   \n",
       "min      0.301000    0.214000    0.000000    1.000000      1.000000   \n",
       "25%      0.368000    0.250000    0.000000    3.000000      3.000000   \n",
       "50%      0.388000    0.258000    0.000000    3.000000      3.000000   \n",
       "75%      0.411750    0.267000    0.000000    3.000000      3.000000   \n",
       "max      0.485000    0.294000    1.000000    8.000000      4.000000   \n",
       "\n",
       "                G        OOBP        OSLG          RD  \n",
       "count  902.000000  902.000000  902.000000  902.000000  \n",
       "mean   161.906874    0.352651    0.449154    0.000000  \n",
       "std      0.702127    0.006318    0.009788  101.188684  \n",
       "min    158.000000    0.301000    0.377000 -331.000000  \n",
       "25%    162.000000    0.354000    0.451000  -70.750000  \n",
       "50%    162.000000    0.354000    0.451000    3.000000  \n",
       "75%    162.000000    0.354000    0.451000   69.750000  \n",
       "max    165.000000    0.384000    0.499000  309.000000  "
      ]
     },
     "execution_count": 21,
     "metadata": {},
     "output_type": "execute_result"
    }
   ],
   "source": [
    "df1.describe()"
   ]
  },
  {
   "cell_type": "code",
   "execution_count": 22,
   "metadata": {},
   "outputs": [
    {
     "data": {
      "text/html": [
       "<div>\n",
       "<style scoped>\n",
       "    .dataframe tbody tr th:only-of-type {\n",
       "        vertical-align: middle;\n",
       "    }\n",
       "\n",
       "    .dataframe tbody tr th {\n",
       "        vertical-align: top;\n",
       "    }\n",
       "\n",
       "    .dataframe thead th {\n",
       "        text-align: right;\n",
       "    }\n",
       "</style>\n",
       "<table border=\"1\" class=\"dataframe\">\n",
       "  <thead>\n",
       "    <tr style=\"text-align: right;\">\n",
       "      <th></th>\n",
       "      <th>Year</th>\n",
       "      <th>RS</th>\n",
       "      <th>RA</th>\n",
       "      <th>W</th>\n",
       "      <th>OBP</th>\n",
       "      <th>SLG</th>\n",
       "      <th>BA</th>\n",
       "      <th>Playoffs</th>\n",
       "      <th>RankSeason</th>\n",
       "      <th>RankPlayoffs</th>\n",
       "      <th>G</th>\n",
       "      <th>OOBP</th>\n",
       "      <th>OSLG</th>\n",
       "      <th>RD</th>\n",
       "    </tr>\n",
       "  </thead>\n",
       "  <tbody>\n",
       "    <tr>\n",
       "      <th>Year</th>\n",
       "      <td>1.000000e+00</td>\n",
       "      <td>0.485502</td>\n",
       "      <td>0.483072</td>\n",
       "      <td>0.002756</td>\n",
       "      <td>0.474799</td>\n",
       "      <td>0.517828</td>\n",
       "      <td>0.438729</td>\n",
       "      <td>0.113014</td>\n",
       "      <td>0.157024</td>\n",
       "      <td>0.108670</td>\n",
       "      <td>-0.027085</td>\n",
       "      <td>-0.332125</td>\n",
       "      <td>-0.290486</td>\n",
       "      <td>-4.316055e-19</td>\n",
       "    </tr>\n",
       "    <tr>\n",
       "      <th>RS</th>\n",
       "      <td>4.855023e-01</td>\n",
       "      <td>1.000000</td>\n",
       "      <td>0.415014</td>\n",
       "      <td>0.507382</td>\n",
       "      <td>0.904909</td>\n",
       "      <td>0.926384</td>\n",
       "      <td>0.831625</td>\n",
       "      <td>0.371631</td>\n",
       "      <td>0.005791</td>\n",
       "      <td>-0.054115</td>\n",
       "      <td>0.056206</td>\n",
       "      <td>-0.223043</td>\n",
       "      <td>-0.204935</td>\n",
       "      <td>5.375395e-01</td>\n",
       "    </tr>\n",
       "    <tr>\n",
       "      <th>RA</th>\n",
       "      <td>4.830717e-01</td>\n",
       "      <td>0.415014</td>\n",
       "      <td>1.000000</td>\n",
       "      <td>-0.507772</td>\n",
       "      <td>0.367105</td>\n",
       "      <td>0.459514</td>\n",
       "      <td>0.350411</td>\n",
       "      <td>-0.241213</td>\n",
       "      <td>0.226918</td>\n",
       "      <td>0.232975</td>\n",
       "      <td>-0.037402</td>\n",
       "      <td>-0.046104</td>\n",
       "      <td>-0.006841</td>\n",
       "      <td>-5.441052e-01</td>\n",
       "    </tr>\n",
       "    <tr>\n",
       "      <th>W</th>\n",
       "      <td>2.755645e-03</td>\n",
       "      <td>0.507382</td>\n",
       "      <td>-0.507772</td>\n",
       "      <td>1.000000</td>\n",
       "      <td>0.474080</td>\n",
       "      <td>0.405972</td>\n",
       "      <td>0.416391</td>\n",
       "      <td>0.588978</td>\n",
       "      <td>-0.224802</td>\n",
       "      <td>-0.302854</td>\n",
       "      <td>0.108128</td>\n",
       "      <td>-0.158473</td>\n",
       "      <td>-0.173650</td>\n",
       "      <td>9.385150e-01</td>\n",
       "    </tr>\n",
       "    <tr>\n",
       "      <th>OBP</th>\n",
       "      <td>4.747989e-01</td>\n",
       "      <td>0.904909</td>\n",
       "      <td>0.367105</td>\n",
       "      <td>0.474080</td>\n",
       "      <td>1.000000</td>\n",
       "      <td>0.806154</td>\n",
       "      <td>0.854055</td>\n",
       "      <td>0.345530</td>\n",
       "      <td>0.015025</td>\n",
       "      <td>-0.046402</td>\n",
       "      <td>-0.003827</td>\n",
       "      <td>-0.203809</td>\n",
       "      <td>-0.191986</td>\n",
       "      <td>4.942505e-01</td>\n",
       "    </tr>\n",
       "    <tr>\n",
       "      <th>SLG</th>\n",
       "      <td>5.178276e-01</td>\n",
       "      <td>0.926384</td>\n",
       "      <td>0.459514</td>\n",
       "      <td>0.405972</td>\n",
       "      <td>0.806154</td>\n",
       "      <td>1.000000</td>\n",
       "      <td>0.814068</td>\n",
       "      <td>0.300191</td>\n",
       "      <td>0.047073</td>\n",
       "      <td>-0.013747</td>\n",
       "      <td>0.012873</td>\n",
       "      <td>-0.252636</td>\n",
       "      <td>-0.223717</td>\n",
       "      <td>4.284077e-01</td>\n",
       "    </tr>\n",
       "    <tr>\n",
       "      <th>BA</th>\n",
       "      <td>4.387291e-01</td>\n",
       "      <td>0.831625</td>\n",
       "      <td>0.350411</td>\n",
       "      <td>0.416391</td>\n",
       "      <td>0.854055</td>\n",
       "      <td>0.814068</td>\n",
       "      <td>1.000000</td>\n",
       "      <td>0.278772</td>\n",
       "      <td>0.020555</td>\n",
       "      <td>-0.050769</td>\n",
       "      <td>-0.001805</td>\n",
       "      <td>-0.120659</td>\n",
       "      <td>-0.095146</td>\n",
       "      <td>4.421417e-01</td>\n",
       "    </tr>\n",
       "    <tr>\n",
       "      <th>Playoffs</th>\n",
       "      <td>1.130136e-01</td>\n",
       "      <td>0.371631</td>\n",
       "      <td>-0.241213</td>\n",
       "      <td>0.588978</td>\n",
       "      <td>0.345530</td>\n",
       "      <td>0.300191</td>\n",
       "      <td>0.278772</td>\n",
       "      <td>1.000000</td>\n",
       "      <td>-0.120961</td>\n",
       "      <td>-0.440090</td>\n",
       "      <td>0.009831</td>\n",
       "      <td>-0.195606</td>\n",
       "      <td>-0.204122</td>\n",
       "      <td>5.662745e-01</td>\n",
       "    </tr>\n",
       "    <tr>\n",
       "      <th>RankSeason</th>\n",
       "      <td>1.570245e-01</td>\n",
       "      <td>0.005791</td>\n",
       "      <td>0.226918</td>\n",
       "      <td>-0.224802</td>\n",
       "      <td>0.015025</td>\n",
       "      <td>0.047073</td>\n",
       "      <td>0.020555</td>\n",
       "      <td>-0.120961</td>\n",
       "      <td>1.000000</td>\n",
       "      <td>0.367849</td>\n",
       "      <td>0.022046</td>\n",
       "      <td>-0.076643</td>\n",
       "      <td>-0.061026</td>\n",
       "      <td>-2.049724e-01</td>\n",
       "    </tr>\n",
       "    <tr>\n",
       "      <th>RankPlayoffs</th>\n",
       "      <td>1.086700e-01</td>\n",
       "      <td>-0.054115</td>\n",
       "      <td>0.232975</td>\n",
       "      <td>-0.302854</td>\n",
       "      <td>-0.046402</td>\n",
       "      <td>-0.013747</td>\n",
       "      <td>-0.050769</td>\n",
       "      <td>-0.440090</td>\n",
       "      <td>0.367849</td>\n",
       "      <td>1.000000</td>\n",
       "      <td>0.000601</td>\n",
       "      <td>-0.034008</td>\n",
       "      <td>-0.026258</td>\n",
       "      <td>-2.658309e-01</td>\n",
       "    </tr>\n",
       "    <tr>\n",
       "      <th>G</th>\n",
       "      <td>-2.708490e-02</td>\n",
       "      <td>0.056206</td>\n",
       "      <td>-0.037402</td>\n",
       "      <td>0.108128</td>\n",
       "      <td>-0.003827</td>\n",
       "      <td>0.012873</td>\n",
       "      <td>-0.001805</td>\n",
       "      <td>0.009831</td>\n",
       "      <td>0.022046</td>\n",
       "      <td>0.000601</td>\n",
       "      <td>1.000000</td>\n",
       "      <td>-0.015596</td>\n",
       "      <td>-0.008084</td>\n",
       "      <td>8.649718e-02</td>\n",
       "    </tr>\n",
       "    <tr>\n",
       "      <th>OOBP</th>\n",
       "      <td>-3.321250e-01</td>\n",
       "      <td>-0.223043</td>\n",
       "      <td>-0.046104</td>\n",
       "      <td>-0.158473</td>\n",
       "      <td>-0.203809</td>\n",
       "      <td>-0.252636</td>\n",
       "      <td>-0.120659</td>\n",
       "      <td>-0.195606</td>\n",
       "      <td>-0.076643</td>\n",
       "      <td>-0.034008</td>\n",
       "      <td>-0.015596</td>\n",
       "      <td>1.000000</td>\n",
       "      <td>0.867004</td>\n",
       "      <td>-1.629563e-01</td>\n",
       "    </tr>\n",
       "    <tr>\n",
       "      <th>OSLG</th>\n",
       "      <td>-2.904863e-01</td>\n",
       "      <td>-0.204935</td>\n",
       "      <td>-0.006841</td>\n",
       "      <td>-0.173650</td>\n",
       "      <td>-0.191986</td>\n",
       "      <td>-0.223717</td>\n",
       "      <td>-0.095146</td>\n",
       "      <td>-0.204122</td>\n",
       "      <td>-0.061026</td>\n",
       "      <td>-0.026258</td>\n",
       "      <td>-0.008084</td>\n",
       "      <td>0.867004</td>\n",
       "      <td>1.000000</td>\n",
       "      <td>-1.826469e-01</td>\n",
       "    </tr>\n",
       "    <tr>\n",
       "      <th>RD</th>\n",
       "      <td>-4.316055e-19</td>\n",
       "      <td>0.537539</td>\n",
       "      <td>-0.544105</td>\n",
       "      <td>0.938515</td>\n",
       "      <td>0.494251</td>\n",
       "      <td>0.428408</td>\n",
       "      <td>0.442142</td>\n",
       "      <td>0.566274</td>\n",
       "      <td>-0.204972</td>\n",
       "      <td>-0.265831</td>\n",
       "      <td>0.086497</td>\n",
       "      <td>-0.162956</td>\n",
       "      <td>-0.182647</td>\n",
       "      <td>1.000000e+00</td>\n",
       "    </tr>\n",
       "  </tbody>\n",
       "</table>\n",
       "</div>"
      ],
      "text/plain": [
       "                      Year        RS        RA         W       OBP       SLG  \\\n",
       "Year          1.000000e+00  0.485502  0.483072  0.002756  0.474799  0.517828   \n",
       "RS            4.855023e-01  1.000000  0.415014  0.507382  0.904909  0.926384   \n",
       "RA            4.830717e-01  0.415014  1.000000 -0.507772  0.367105  0.459514   \n",
       "W             2.755645e-03  0.507382 -0.507772  1.000000  0.474080  0.405972   \n",
       "OBP           4.747989e-01  0.904909  0.367105  0.474080  1.000000  0.806154   \n",
       "SLG           5.178276e-01  0.926384  0.459514  0.405972  0.806154  1.000000   \n",
       "BA            4.387291e-01  0.831625  0.350411  0.416391  0.854055  0.814068   \n",
       "Playoffs      1.130136e-01  0.371631 -0.241213  0.588978  0.345530  0.300191   \n",
       "RankSeason    1.570245e-01  0.005791  0.226918 -0.224802  0.015025  0.047073   \n",
       "RankPlayoffs  1.086700e-01 -0.054115  0.232975 -0.302854 -0.046402 -0.013747   \n",
       "G            -2.708490e-02  0.056206 -0.037402  0.108128 -0.003827  0.012873   \n",
       "OOBP         -3.321250e-01 -0.223043 -0.046104 -0.158473 -0.203809 -0.252636   \n",
       "OSLG         -2.904863e-01 -0.204935 -0.006841 -0.173650 -0.191986 -0.223717   \n",
       "RD           -4.316055e-19  0.537539 -0.544105  0.938515  0.494251  0.428408   \n",
       "\n",
       "                    BA  Playoffs  RankSeason  RankPlayoffs         G  \\\n",
       "Year          0.438729  0.113014    0.157024      0.108670 -0.027085   \n",
       "RS            0.831625  0.371631    0.005791     -0.054115  0.056206   \n",
       "RA            0.350411 -0.241213    0.226918      0.232975 -0.037402   \n",
       "W             0.416391  0.588978   -0.224802     -0.302854  0.108128   \n",
       "OBP           0.854055  0.345530    0.015025     -0.046402 -0.003827   \n",
       "SLG           0.814068  0.300191    0.047073     -0.013747  0.012873   \n",
       "BA            1.000000  0.278772    0.020555     -0.050769 -0.001805   \n",
       "Playoffs      0.278772  1.000000   -0.120961     -0.440090  0.009831   \n",
       "RankSeason    0.020555 -0.120961    1.000000      0.367849  0.022046   \n",
       "RankPlayoffs -0.050769 -0.440090    0.367849      1.000000  0.000601   \n",
       "G            -0.001805  0.009831    0.022046      0.000601  1.000000   \n",
       "OOBP         -0.120659 -0.195606   -0.076643     -0.034008 -0.015596   \n",
       "OSLG         -0.095146 -0.204122   -0.061026     -0.026258 -0.008084   \n",
       "RD            0.442142  0.566274   -0.204972     -0.265831  0.086497   \n",
       "\n",
       "                  OOBP      OSLG            RD  \n",
       "Year         -0.332125 -0.290486 -4.316055e-19  \n",
       "RS           -0.223043 -0.204935  5.375395e-01  \n",
       "RA           -0.046104 -0.006841 -5.441052e-01  \n",
       "W            -0.158473 -0.173650  9.385150e-01  \n",
       "OBP          -0.203809 -0.191986  4.942505e-01  \n",
       "SLG          -0.252636 -0.223717  4.284077e-01  \n",
       "BA           -0.120659 -0.095146  4.421417e-01  \n",
       "Playoffs     -0.195606 -0.204122  5.662745e-01  \n",
       "RankSeason   -0.076643 -0.061026 -2.049724e-01  \n",
       "RankPlayoffs -0.034008 -0.026258 -2.658309e-01  \n",
       "G            -0.015596 -0.008084  8.649718e-02  \n",
       "OOBP          1.000000  0.867004 -1.629563e-01  \n",
       "OSLG          0.867004  1.000000 -1.826469e-01  \n",
       "RD           -0.162956 -0.182647  1.000000e+00  "
      ]
     },
     "execution_count": 22,
     "metadata": {},
     "output_type": "execute_result"
    }
   ],
   "source": [
    "df1.corr()"
   ]
  },
  {
   "cell_type": "code",
   "execution_count": null,
   "metadata": {},
   "outputs": [],
   "source": []
  },
  {
   "cell_type": "code",
   "execution_count": 23,
   "metadata": {},
   "outputs": [],
   "source": [
    "from sklearn.linear_model import LinearRegression\n",
    "from sklearn import metrics"
   ]
  },
  {
   "cell_type": "code",
   "execution_count": null,
   "metadata": {},
   "outputs": [],
   "source": []
  },
  {
   "cell_type": "code",
   "execution_count": 24,
   "metadata": {},
   "outputs": [
    {
     "name": "stdout",
     "output_type": "stream",
     "text": [
      "R2 :  0.8808103719972755\n",
      "coef:  [0.10576562]\n",
      "intercept:  80.88137472283813\n"
     ]
    }
   ],
   "source": [
    "#W = B0 + B1*RD\n",
    "x=df1[['RD']]\n",
    "y=df1.W\n",
    "LR = LinearRegression()\n",
    "LR.fit(x,y)\n",
    "r2=LR.score(x,y)\n",
    "print(\"R2 : \",r2)\n",
    "print(\"coef: \",LR.coef_)\n",
    "print(\"intercept: \",LR.intercept_)"
   ]
  },
  {
   "cell_type": "code",
   "execution_count": 25,
   "metadata": {},
   "outputs": [
    {
     "name": "stdout",
     "output_type": "stream",
     "text": [
      "R2 :  0.9295810608096597\n",
      "coef:  [2737.76802227 1584.90860546]\n",
      "intercept:  -804.62706106224\n"
     ]
    }
   ],
   "source": [
    "# RS = B0 +B1*OBP + B2*SLG\n",
    "x=df1[['OBP','SLG']]\n",
    "y=df1.RS\n",
    "LR = LinearRegression()\n",
    "LR.fit(x,y)\n",
    "r2=LR.score(x,y)\n",
    "print(\"R2 : \",r2)\n",
    "print(\"coef: \",LR.coef_)\n",
    "print(\"intercept: \",LR.intercept_)"
   ]
  },
  {
   "cell_type": "code",
   "execution_count": 26,
   "metadata": {},
   "outputs": [
    {
     "name": "stdout",
     "output_type": "stream",
     "text": [
      "R2 :  0.006546229716148599\n",
      "coef:  [-2401.51458526  1278.44712526]\n",
      "intercept:  976.485524337802\n"
     ]
    }
   ],
   "source": [
    "# RA = B0 +B1*OOBP + B2*OSLG\n",
    "x=df1[['OOBP','OSLG']]\n",
    "y=df1.RA\n",
    "LR = LinearRegression()\n",
    "LR.fit(x,y)\n",
    "r2=LR.score(x,y)\n",
    "print(\"R2 : \",r2)\n",
    "print(\"coef: \",LR.coef_)\n",
    "print(\"intercept: \",LR.intercept_)"
   ]
  },
  {
   "cell_type": "raw",
   "metadata": {},
   "source": [
    "model prediction\n",
    "data\n",
    "OBP:0.339\n",
    "SLG:0.430\n",
    "OOBP:0.307\n",
    "OSLG:0.373"
   ]
  },
  {
   "cell_type": "code",
   "execution_count": 27,
   "metadata": {},
   "outputs": [
    {
     "data": {
      "text/plain": [
       "array([716.08132439])"
      ]
     },
     "execution_count": 27,
     "metadata": {},
     "output_type": "execute_result"
    }
   ],
   "source": [
    "LR.predict([[0.307,0.373]])"
   ]
  },
  {
   "cell_type": "code",
   "execution_count": 28,
   "metadata": {
    "scrolled": false
   },
   "outputs": [
    {
     "data": {
      "text/plain": [
       "array([712.1043438])"
      ]
     },
     "execution_count": 28,
     "metadata": {},
     "output_type": "execute_result"
    }
   ],
   "source": [
    "LR.predict([[0.339,0.430]])"
   ]
  },
  {
   "cell_type": "code",
   "execution_count": 29,
   "metadata": {
    "scrolled": true
   },
   "outputs": [],
   "source": [
    "# LR.predict([[788.44338686-585.04417539]])"
   ]
  },
  {
   "cell_type": "markdown",
   "metadata": {},
   "source": [
    "actual value is 103"
   ]
  },
  {
   "cell_type": "markdown",
   "metadata": {},
   "source": [
    "# knn imputation"
   ]
  },
  {
   "cell_type": "code",
   "execution_count": 30,
   "metadata": {},
   "outputs": [],
   "source": [
    "# imputing OOBP"
   ]
  },
  {
   "cell_type": "code",
   "execution_count": 31,
   "metadata": {
    "scrolled": true
   },
   "outputs": [
    {
     "data": {
      "text/html": [
       "<div>\n",
       "<style scoped>\n",
       "    .dataframe tbody tr th:only-of-type {\n",
       "        vertical-align: middle;\n",
       "    }\n",
       "\n",
       "    .dataframe tbody tr th {\n",
       "        vertical-align: top;\n",
       "    }\n",
       "\n",
       "    .dataframe thead th {\n",
       "        text-align: right;\n",
       "    }\n",
       "</style>\n",
       "<table border=\"1\" class=\"dataframe\">\n",
       "  <thead>\n",
       "    <tr style=\"text-align: right;\">\n",
       "      <th></th>\n",
       "      <th>Team</th>\n",
       "      <th>League</th>\n",
       "      <th>Year</th>\n",
       "      <th>RS</th>\n",
       "      <th>RA</th>\n",
       "      <th>W</th>\n",
       "      <th>OBP</th>\n",
       "      <th>SLG</th>\n",
       "      <th>BA</th>\n",
       "      <th>Playoffs</th>\n",
       "      <th>RankSeason</th>\n",
       "      <th>RankPlayoffs</th>\n",
       "      <th>G</th>\n",
       "      <th>OOBP</th>\n",
       "      <th>OSLG</th>\n",
       "      <th>RD</th>\n",
       "    </tr>\n",
       "  </thead>\n",
       "  <tbody>\n",
       "    <tr>\n",
       "      <th>330</th>\n",
       "      <td>ANA</td>\n",
       "      <td>AL</td>\n",
       "      <td>2001</td>\n",
       "      <td>691</td>\n",
       "      <td>730</td>\n",
       "      <td>75</td>\n",
       "      <td>0.327</td>\n",
       "      <td>0.405</td>\n",
       "      <td>0.261</td>\n",
       "      <td>0</td>\n",
       "      <td>NaN</td>\n",
       "      <td>NaN</td>\n",
       "      <td>162</td>\n",
       "      <td>0.331</td>\n",
       "      <td>0.412</td>\n",
       "      <td>-39</td>\n",
       "    </tr>\n",
       "    <tr>\n",
       "      <th>331</th>\n",
       "      <td>ARI</td>\n",
       "      <td>NL</td>\n",
       "      <td>2001</td>\n",
       "      <td>818</td>\n",
       "      <td>677</td>\n",
       "      <td>92</td>\n",
       "      <td>0.341</td>\n",
       "      <td>0.442</td>\n",
       "      <td>0.267</td>\n",
       "      <td>1</td>\n",
       "      <td>5.0</td>\n",
       "      <td>1.0</td>\n",
       "      <td>162</td>\n",
       "      <td>0.311</td>\n",
       "      <td>0.404</td>\n",
       "      <td>141</td>\n",
       "    </tr>\n",
       "    <tr>\n",
       "      <th>332</th>\n",
       "      <td>ATL</td>\n",
       "      <td>NL</td>\n",
       "      <td>2001</td>\n",
       "      <td>729</td>\n",
       "      <td>643</td>\n",
       "      <td>88</td>\n",
       "      <td>0.324</td>\n",
       "      <td>0.412</td>\n",
       "      <td>0.260</td>\n",
       "      <td>1</td>\n",
       "      <td>7.0</td>\n",
       "      <td>3.0</td>\n",
       "      <td>162</td>\n",
       "      <td>0.314</td>\n",
       "      <td>0.384</td>\n",
       "      <td>86</td>\n",
       "    </tr>\n",
       "    <tr>\n",
       "      <th>333</th>\n",
       "      <td>BAL</td>\n",
       "      <td>AL</td>\n",
       "      <td>2001</td>\n",
       "      <td>687</td>\n",
       "      <td>829</td>\n",
       "      <td>63</td>\n",
       "      <td>0.319</td>\n",
       "      <td>0.380</td>\n",
       "      <td>0.248</td>\n",
       "      <td>0</td>\n",
       "      <td>NaN</td>\n",
       "      <td>NaN</td>\n",
       "      <td>162</td>\n",
       "      <td>0.337</td>\n",
       "      <td>0.439</td>\n",
       "      <td>-142</td>\n",
       "    </tr>\n",
       "    <tr>\n",
       "      <th>334</th>\n",
       "      <td>BOS</td>\n",
       "      <td>AL</td>\n",
       "      <td>2001</td>\n",
       "      <td>772</td>\n",
       "      <td>745</td>\n",
       "      <td>82</td>\n",
       "      <td>0.334</td>\n",
       "      <td>0.439</td>\n",
       "      <td>0.266</td>\n",
       "      <td>0</td>\n",
       "      <td>NaN</td>\n",
       "      <td>NaN</td>\n",
       "      <td>161</td>\n",
       "      <td>0.329</td>\n",
       "      <td>0.393</td>\n",
       "      <td>27</td>\n",
       "    </tr>\n",
       "  </tbody>\n",
       "</table>\n",
       "</div>"
      ],
      "text/plain": [
       "    Team League  Year   RS   RA   W    OBP    SLG     BA  Playoffs  \\\n",
       "330  ANA     AL  2001  691  730  75  0.327  0.405  0.261         0   \n",
       "331  ARI     NL  2001  818  677  92  0.341  0.442  0.267         1   \n",
       "332  ATL     NL  2001  729  643  88  0.324  0.412  0.260         1   \n",
       "333  BAL     AL  2001  687  829  63  0.319  0.380  0.248         0   \n",
       "334  BOS     AL  2001  772  745  82  0.334  0.439  0.266         0   \n",
       "\n",
       "     RankSeason  RankPlayoffs    G   OOBP   OSLG   RD  \n",
       "330         NaN           NaN  162  0.331  0.412  -39  \n",
       "331         5.0           1.0  162  0.311  0.404  141  \n",
       "332         7.0           3.0  162  0.314  0.384   86  \n",
       "333         NaN           NaN  162  0.337  0.439 -142  \n",
       "334         NaN           NaN  161  0.329  0.393   27  "
      ]
     },
     "execution_count": 31,
     "metadata": {},
     "output_type": "execute_result"
    }
   ],
   "source": [
    "#data for processing\n",
    "dftemp=df[df['Year']<2002]\n",
    "dftemp.head()"
   ]
  },
  {
   "cell_type": "code",
   "execution_count": 32,
   "metadata": {},
   "outputs": [
    {
     "data": {
      "text/plain": [
       "(902, 16)"
      ]
     },
     "execution_count": 32,
     "metadata": {},
     "output_type": "execute_result"
    }
   ],
   "source": [
    "dftemp.shape"
   ]
  },
  {
   "cell_type": "code",
   "execution_count": 33,
   "metadata": {},
   "outputs": [
    {
     "data": {
      "text/plain": [
       "Team              0\n",
       "League            0\n",
       "Year              0\n",
       "RS                0\n",
       "RA                0\n",
       "W                 0\n",
       "OBP               0\n",
       "SLG               0\n",
       "BA                0\n",
       "Playoffs          0\n",
       "RankSeason      748\n",
       "RankPlayoffs    748\n",
       "G                 0\n",
       "OOBP            812\n",
       "OSLG            812\n",
       "RD                0\n",
       "dtype: int64"
      ]
     },
     "execution_count": 33,
     "metadata": {},
     "output_type": "execute_result"
    }
   ],
   "source": [
    "#checking for null values\n",
    "dftemp.isnull().sum()"
   ]
  },
  {
   "cell_type": "code",
   "execution_count": 34,
   "metadata": {},
   "outputs": [],
   "source": [
    "#since 'RankSeason','RankPlayoffs','OSLG' has a lot of Nan values,droping them\n",
    "dftemp1=dftemp.drop(columns=['RankSeason','RankPlayoffs','OSLG'])"
   ]
  },
  {
   "cell_type": "code",
   "execution_count": 8,
   "metadata": {},
   "outputs": [],
   "source": [
    "#preparing data from prediction\n",
    "dftemptrain=dftemp1[dftemp1['OOBP'].isnull()!=True]#training data where there are no null values\n",
    "dftempfin=dftemp1[dftemp1['OOBP'].isnull()==True]#data for which 'OOBP' must be predicted ,(OOBP with ~Nan values)"
   ]
  },
  {
   "cell_type": "code",
   "execution_count": 9,
   "metadata": {
    "scrolled": true
   },
   "outputs": [
    {
     "data": {
      "text/html": [
       "<div>\n",
       "<style scoped>\n",
       "    .dataframe tbody tr th:only-of-type {\n",
       "        vertical-align: middle;\n",
       "    }\n",
       "\n",
       "    .dataframe tbody tr th {\n",
       "        vertical-align: top;\n",
       "    }\n",
       "\n",
       "    .dataframe thead th {\n",
       "        text-align: right;\n",
       "    }\n",
       "</style>\n",
       "<table border=\"1\" class=\"dataframe\">\n",
       "  <thead>\n",
       "    <tr style=\"text-align: right;\">\n",
       "      <th></th>\n",
       "      <th>Team</th>\n",
       "      <th>League</th>\n",
       "      <th>Year</th>\n",
       "      <th>RS</th>\n",
       "      <th>RA</th>\n",
       "      <th>W</th>\n",
       "      <th>OBP</th>\n",
       "      <th>SLG</th>\n",
       "      <th>BA</th>\n",
       "      <th>Playoffs</th>\n",
       "      <th>G</th>\n",
       "      <th>OOBP</th>\n",
       "      <th>RD</th>\n",
       "    </tr>\n",
       "  </thead>\n",
       "  <tbody>\n",
       "    <tr>\n",
       "      <th>330</th>\n",
       "      <td>ANA</td>\n",
       "      <td>AL</td>\n",
       "      <td>2001</td>\n",
       "      <td>691</td>\n",
       "      <td>730</td>\n",
       "      <td>75</td>\n",
       "      <td>0.327</td>\n",
       "      <td>0.405</td>\n",
       "      <td>0.261</td>\n",
       "      <td>0</td>\n",
       "      <td>162</td>\n",
       "      <td>0.331</td>\n",
       "      <td>-39</td>\n",
       "    </tr>\n",
       "    <tr>\n",
       "      <th>331</th>\n",
       "      <td>ARI</td>\n",
       "      <td>NL</td>\n",
       "      <td>2001</td>\n",
       "      <td>818</td>\n",
       "      <td>677</td>\n",
       "      <td>92</td>\n",
       "      <td>0.341</td>\n",
       "      <td>0.442</td>\n",
       "      <td>0.267</td>\n",
       "      <td>1</td>\n",
       "      <td>162</td>\n",
       "      <td>0.311</td>\n",
       "      <td>141</td>\n",
       "    </tr>\n",
       "    <tr>\n",
       "      <th>332</th>\n",
       "      <td>ATL</td>\n",
       "      <td>NL</td>\n",
       "      <td>2001</td>\n",
       "      <td>729</td>\n",
       "      <td>643</td>\n",
       "      <td>88</td>\n",
       "      <td>0.324</td>\n",
       "      <td>0.412</td>\n",
       "      <td>0.260</td>\n",
       "      <td>1</td>\n",
       "      <td>162</td>\n",
       "      <td>0.314</td>\n",
       "      <td>86</td>\n",
       "    </tr>\n",
       "    <tr>\n",
       "      <th>333</th>\n",
       "      <td>BAL</td>\n",
       "      <td>AL</td>\n",
       "      <td>2001</td>\n",
       "      <td>687</td>\n",
       "      <td>829</td>\n",
       "      <td>63</td>\n",
       "      <td>0.319</td>\n",
       "      <td>0.380</td>\n",
       "      <td>0.248</td>\n",
       "      <td>0</td>\n",
       "      <td>162</td>\n",
       "      <td>0.337</td>\n",
       "      <td>-142</td>\n",
       "    </tr>\n",
       "    <tr>\n",
       "      <th>334</th>\n",
       "      <td>BOS</td>\n",
       "      <td>AL</td>\n",
       "      <td>2001</td>\n",
       "      <td>772</td>\n",
       "      <td>745</td>\n",
       "      <td>82</td>\n",
       "      <td>0.334</td>\n",
       "      <td>0.439</td>\n",
       "      <td>0.266</td>\n",
       "      <td>0</td>\n",
       "      <td>161</td>\n",
       "      <td>0.329</td>\n",
       "      <td>27</td>\n",
       "    </tr>\n",
       "  </tbody>\n",
       "</table>\n",
       "</div>"
      ],
      "text/plain": [
       "    Team League  Year   RS   RA   W    OBP    SLG     BA  Playoffs    G  \\\n",
       "330  ANA     AL  2001  691  730  75  0.327  0.405  0.261         0  162   \n",
       "331  ARI     NL  2001  818  677  92  0.341  0.442  0.267         1  162   \n",
       "332  ATL     NL  2001  729  643  88  0.324  0.412  0.260         1  162   \n",
       "333  BAL     AL  2001  687  829  63  0.319  0.380  0.248         0  162   \n",
       "334  BOS     AL  2001  772  745  82  0.334  0.439  0.266         0  161   \n",
       "\n",
       "      OOBP   RD  \n",
       "330  0.331  -39  \n",
       "331  0.311  141  \n",
       "332  0.314   86  \n",
       "333  0.337 -142  \n",
       "334  0.329   27  "
      ]
     },
     "execution_count": 9,
     "metadata": {},
     "output_type": "execute_result"
    }
   ],
   "source": [
    "dftemptrain.head()#viewing train data"
   ]
  },
  {
   "cell_type": "code",
   "execution_count": 10,
   "metadata": {},
   "outputs": [
    {
     "data": {
      "text/plain": [
       "(90, 13)"
      ]
     },
     "execution_count": 10,
     "metadata": {},
     "output_type": "execute_result"
    }
   ],
   "source": [
    "dftemptrain.shape"
   ]
  },
  {
   "cell_type": "code",
   "execution_count": 11,
   "metadata": {
    "scrolled": true
   },
   "outputs": [
    {
     "data": {
      "text/html": [
       "<div>\n",
       "<style scoped>\n",
       "    .dataframe tbody tr th:only-of-type {\n",
       "        vertical-align: middle;\n",
       "    }\n",
       "\n",
       "    .dataframe tbody tr th {\n",
       "        vertical-align: top;\n",
       "    }\n",
       "\n",
       "    .dataframe thead th {\n",
       "        text-align: right;\n",
       "    }\n",
       "</style>\n",
       "<table border=\"1\" class=\"dataframe\">\n",
       "  <thead>\n",
       "    <tr style=\"text-align: right;\">\n",
       "      <th></th>\n",
       "      <th>Team</th>\n",
       "      <th>League</th>\n",
       "      <th>Year</th>\n",
       "      <th>RS</th>\n",
       "      <th>RA</th>\n",
       "      <th>W</th>\n",
       "      <th>OBP</th>\n",
       "      <th>SLG</th>\n",
       "      <th>BA</th>\n",
       "      <th>Playoffs</th>\n",
       "      <th>G</th>\n",
       "      <th>OOBP</th>\n",
       "      <th>RD</th>\n",
       "    </tr>\n",
       "  </thead>\n",
       "  <tbody>\n",
       "    <tr>\n",
       "      <th>420</th>\n",
       "      <td>ANA</td>\n",
       "      <td>AL</td>\n",
       "      <td>1998</td>\n",
       "      <td>787</td>\n",
       "      <td>783</td>\n",
       "      <td>85</td>\n",
       "      <td>0.335</td>\n",
       "      <td>0.415</td>\n",
       "      <td>0.272</td>\n",
       "      <td>0</td>\n",
       "      <td>162</td>\n",
       "      <td>NaN</td>\n",
       "      <td>4</td>\n",
       "    </tr>\n",
       "    <tr>\n",
       "      <th>421</th>\n",
       "      <td>ARI</td>\n",
       "      <td>NL</td>\n",
       "      <td>1998</td>\n",
       "      <td>665</td>\n",
       "      <td>812</td>\n",
       "      <td>65</td>\n",
       "      <td>0.314</td>\n",
       "      <td>0.393</td>\n",
       "      <td>0.246</td>\n",
       "      <td>0</td>\n",
       "      <td>162</td>\n",
       "      <td>NaN</td>\n",
       "      <td>-147</td>\n",
       "    </tr>\n",
       "    <tr>\n",
       "      <th>422</th>\n",
       "      <td>ATL</td>\n",
       "      <td>NL</td>\n",
       "      <td>1998</td>\n",
       "      <td>826</td>\n",
       "      <td>581</td>\n",
       "      <td>106</td>\n",
       "      <td>0.342</td>\n",
       "      <td>0.453</td>\n",
       "      <td>0.272</td>\n",
       "      <td>1</td>\n",
       "      <td>162</td>\n",
       "      <td>NaN</td>\n",
       "      <td>245</td>\n",
       "    </tr>\n",
       "    <tr>\n",
       "      <th>423</th>\n",
       "      <td>BAL</td>\n",
       "      <td>AL</td>\n",
       "      <td>1998</td>\n",
       "      <td>817</td>\n",
       "      <td>785</td>\n",
       "      <td>79</td>\n",
       "      <td>0.347</td>\n",
       "      <td>0.447</td>\n",
       "      <td>0.273</td>\n",
       "      <td>0</td>\n",
       "      <td>162</td>\n",
       "      <td>NaN</td>\n",
       "      <td>32</td>\n",
       "    </tr>\n",
       "    <tr>\n",
       "      <th>424</th>\n",
       "      <td>BOS</td>\n",
       "      <td>AL</td>\n",
       "      <td>1998</td>\n",
       "      <td>876</td>\n",
       "      <td>729</td>\n",
       "      <td>92</td>\n",
       "      <td>0.348</td>\n",
       "      <td>0.463</td>\n",
       "      <td>0.280</td>\n",
       "      <td>1</td>\n",
       "      <td>162</td>\n",
       "      <td>NaN</td>\n",
       "      <td>147</td>\n",
       "    </tr>\n",
       "  </tbody>\n",
       "</table>\n",
       "</div>"
      ],
      "text/plain": [
       "    Team League  Year   RS   RA    W    OBP    SLG     BA  Playoffs    G  \\\n",
       "420  ANA     AL  1998  787  783   85  0.335  0.415  0.272         0  162   \n",
       "421  ARI     NL  1998  665  812   65  0.314  0.393  0.246         0  162   \n",
       "422  ATL     NL  1998  826  581  106  0.342  0.453  0.272         1  162   \n",
       "423  BAL     AL  1998  817  785   79  0.347  0.447  0.273         0  162   \n",
       "424  BOS     AL  1998  876  729   92  0.348  0.463  0.280         1  162   \n",
       "\n",
       "     OOBP   RD  \n",
       "420   NaN    4  \n",
       "421   NaN -147  \n",
       "422   NaN  245  \n",
       "423   NaN   32  \n",
       "424   NaN  147  "
      ]
     },
     "execution_count": 11,
     "metadata": {},
     "output_type": "execute_result"
    }
   ],
   "source": [
    "dftempfin.head()#viewing test data"
   ]
  },
  {
   "cell_type": "code",
   "execution_count": 12,
   "metadata": {},
   "outputs": [
    {
     "data": {
      "text/plain": [
       "(812, 13)"
      ]
     },
     "execution_count": 12,
     "metadata": {},
     "output_type": "execute_result"
    }
   ],
   "source": [
    "dftempfin.shape"
   ]
  },
  {
   "cell_type": "code",
   "execution_count": 13,
   "metadata": {},
   "outputs": [],
   "source": [
    "#seting independent and dependent variables\n",
    "x=dftemptrain.drop(columns=['OOBP','Team','League'])\n",
    "y=dftemptrain.OOBP"
   ]
  },
  {
   "cell_type": "code",
   "execution_count": 16,
   "metadata": {},
   "outputs": [
    {
     "data": {
      "text/plain": [
       "Text(0, 0.5, 'r2')"
      ]
     },
     "execution_count": 16,
     "metadata": {},
     "output_type": "execute_result"
    },
    {
     "data": {
      "image/png": "[encoded data removed]",
      "text/plain": [
       "<Figure size 864x432 with 1 Axes>"
      ]
     },
     "metadata": {
      "needs_background": "light"
     },
     "output_type": "display_data"
    }
   ],
   "source": [
    "cluster_range=range(1,15)\n",
    "cluster_inertia=[]\n",
    "for num_clusters in cluster_range:\n",
    "    model=KNeighborsRegressor(num_clusters)\n",
    "    model.fit(x,y)\n",
    "    cluster_inertia.append(model.score(x,y))\n",
    "plt.figure(figsize=(12,6))\n",
    "plt.plot(cluster_range,cluster_inertia,marker='o')\n",
    "plt.xlabel(\"no of clusters\")\n",
    "plt.ylabel(\"r2\")"
   ]
  },
  {
   "cell_type": "code",
   "execution_count": 15,
   "metadata": {},
   "outputs": [],
   "source": [
    "from sklearn.neighbors import KNeighborsRegressor"
   ]
  },
  {
   "cell_type": "code",
   "execution_count": 18,
   "metadata": {},
   "outputs": [
    {
     "data": {
      "text/plain": [
       "KNeighborsRegressor(algorithm='auto', leaf_size=30, metric='minkowski',\n",
       "                    metric_params=None, n_jobs=None, n_neighbors=5, p=2,\n",
       "                    weights='uniform')"
      ]
     },
     "execution_count": 18,
     "metadata": {},
     "output_type": "execute_result"
    }
   ],
   "source": [
    "#fitting the model with train data for prediction\n",
    "\n",
    "knn = KNeighborsRegressor(n_neighbors=5)\n",
    "knn.fit(x,y)"
   ]
  },
  {
   "cell_type": "code",
   "execution_count": 19,
   "metadata": {},
   "outputs": [],
   "source": [
    "#reseting index of test data for prediction\n",
    "dftempfin.reset_index(drop=True,inplace=True)"
   ]
  },
  {
   "cell_type": "code",
   "execution_count": null,
   "metadata": {},
   "outputs": [],
   "source": [
    "#Adding the predicted values to empty 'OOBP' column\n",
    "dftempfin['OOBP']=pd.DataFrame(knn.predict(dftempfin.drop(columns=['OOBP','Team','League'])))"
   ]
  },
  {
   "cell_type": "code",
   "execution_count": 20,
   "metadata": {},
   "outputs": [],
   "source": [
    "#reseting index of train data frame so as to merge appropriately\n",
    "dftemptrain.set_index(np.arange(813,813+dftemptrain.shape[0]),inplace=True)"
   ]
  },
  {
   "cell_type": "code",
   "execution_count": 21,
   "metadata": {
    "scrolled": true
   },
   "outputs": [
    {
     "data": {
      "text/plain": [
       "90"
      ]
     },
     "execution_count": 21,
     "metadata": {},
     "output_type": "execute_result"
    }
   ],
   "source": [
    "dftemptrain.shape[0]"
   ]
  },
  {
   "cell_type": "code",
   "execution_count": 22,
   "metadata": {},
   "outputs": [
    {
     "data": {
      "text/plain": [
       "812"
      ]
     },
     "execution_count": 22,
     "metadata": {},
     "output_type": "execute_result"
    }
   ],
   "source": [
    "dftempfin.shape[0]"
   ]
  },
  {
   "cell_type": "code",
   "execution_count": 23,
   "metadata": {
    "scrolled": true
   },
   "outputs": [
    {
     "data": {
      "text/html": [
       "<div>\n",
       "<style scoped>\n",
       "    .dataframe tbody tr th:only-of-type {\n",
       "        vertical-align: middle;\n",
       "    }\n",
       "\n",
       "    .dataframe tbody tr th {\n",
       "        vertical-align: top;\n",
       "    }\n",
       "\n",
       "    .dataframe thead th {\n",
       "        text-align: right;\n",
       "    }\n",
       "</style>\n",
       "<table border=\"1\" class=\"dataframe\">\n",
       "  <thead>\n",
       "    <tr style=\"text-align: right;\">\n",
       "      <th></th>\n",
       "      <th>Team</th>\n",
       "      <th>League</th>\n",
       "      <th>Year</th>\n",
       "      <th>RS</th>\n",
       "      <th>RA</th>\n",
       "      <th>W</th>\n",
       "      <th>OBP</th>\n",
       "      <th>SLG</th>\n",
       "      <th>BA</th>\n",
       "      <th>Playoffs</th>\n",
       "      <th>G</th>\n",
       "      <th>OOBP</th>\n",
       "      <th>RD</th>\n",
       "    </tr>\n",
       "  </thead>\n",
       "  <tbody>\n",
       "    <tr>\n",
       "      <th>0</th>\n",
       "      <td>ANA</td>\n",
       "      <td>AL</td>\n",
       "      <td>1998</td>\n",
       "      <td>787</td>\n",
       "      <td>783</td>\n",
       "      <td>85</td>\n",
       "      <td>0.335</td>\n",
       "      <td>0.415</td>\n",
       "      <td>0.272</td>\n",
       "      <td>0</td>\n",
       "      <td>162</td>\n",
       "      <td>NaN</td>\n",
       "      <td>4</td>\n",
       "    </tr>\n",
       "    <tr>\n",
       "      <th>1</th>\n",
       "      <td>ARI</td>\n",
       "      <td>NL</td>\n",
       "      <td>1998</td>\n",
       "      <td>665</td>\n",
       "      <td>812</td>\n",
       "      <td>65</td>\n",
       "      <td>0.314</td>\n",
       "      <td>0.393</td>\n",
       "      <td>0.246</td>\n",
       "      <td>0</td>\n",
       "      <td>162</td>\n",
       "      <td>NaN</td>\n",
       "      <td>-147</td>\n",
       "    </tr>\n",
       "    <tr>\n",
       "      <th>2</th>\n",
       "      <td>ATL</td>\n",
       "      <td>NL</td>\n",
       "      <td>1998</td>\n",
       "      <td>826</td>\n",
       "      <td>581</td>\n",
       "      <td>106</td>\n",
       "      <td>0.342</td>\n",
       "      <td>0.453</td>\n",
       "      <td>0.272</td>\n",
       "      <td>1</td>\n",
       "      <td>162</td>\n",
       "      <td>NaN</td>\n",
       "      <td>245</td>\n",
       "    </tr>\n",
       "    <tr>\n",
       "      <th>3</th>\n",
       "      <td>BAL</td>\n",
       "      <td>AL</td>\n",
       "      <td>1998</td>\n",
       "      <td>817</td>\n",
       "      <td>785</td>\n",
       "      <td>79</td>\n",
       "      <td>0.347</td>\n",
       "      <td>0.447</td>\n",
       "      <td>0.273</td>\n",
       "      <td>0</td>\n",
       "      <td>162</td>\n",
       "      <td>NaN</td>\n",
       "      <td>32</td>\n",
       "    </tr>\n",
       "    <tr>\n",
       "      <th>4</th>\n",
       "      <td>BOS</td>\n",
       "      <td>AL</td>\n",
       "      <td>1998</td>\n",
       "      <td>876</td>\n",
       "      <td>729</td>\n",
       "      <td>92</td>\n",
       "      <td>0.348</td>\n",
       "      <td>0.463</td>\n",
       "      <td>0.280</td>\n",
       "      <td>1</td>\n",
       "      <td>162</td>\n",
       "      <td>NaN</td>\n",
       "      <td>147</td>\n",
       "    </tr>\n",
       "  </tbody>\n",
       "</table>\n",
       "</div>"
      ],
      "text/plain": [
       "  Team League  Year   RS   RA    W    OBP    SLG     BA  Playoffs    G  OOBP  \\\n",
       "0  ANA     AL  1998  787  783   85  0.335  0.415  0.272         0  162   NaN   \n",
       "1  ARI     NL  1998  665  812   65  0.314  0.393  0.246         0  162   NaN   \n",
       "2  ATL     NL  1998  826  581  106  0.342  0.453  0.272         1  162   NaN   \n",
       "3  BAL     AL  1998  817  785   79  0.347  0.447  0.273         0  162   NaN   \n",
       "4  BOS     AL  1998  876  729   92  0.348  0.463  0.280         1  162   NaN   \n",
       "\n",
       "    RD  \n",
       "0    4  \n",
       "1 -147  \n",
       "2  245  \n",
       "3   32  \n",
       "4  147  "
      ]
     },
     "execution_count": 23,
     "metadata": {},
     "output_type": "execute_result"
    }
   ],
   "source": [
    "#the final data after replacing all Nan in OOBP with predicted values of OOBP\n",
    "newdf=pd.concat((dftempfin,dftemptrain),axis=0)\n",
    "newdf.head()"
   ]
  },
  {
   "cell_type": "code",
   "execution_count": 24,
   "metadata": {},
   "outputs": [
    {
     "data": {
      "text/plain": [
       "(902, 13)"
      ]
     },
     "execution_count": 24,
     "metadata": {},
     "output_type": "execute_result"
    }
   ],
   "source": [
    "newdf.shape"
   ]
  },
  {
   "cell_type": "code",
   "execution_count": 25,
   "metadata": {},
   "outputs": [
    {
     "data": {
      "text/plain": [
       "(902, 16)"
      ]
     },
     "execution_count": 25,
     "metadata": {},
     "output_type": "execute_result"
    }
   ],
   "source": [
    "dftemp.shape"
   ]
  },
  {
   "cell_type": "code",
   "execution_count": 26,
   "metadata": {},
   "outputs": [],
   "source": [
    "newdf.sort_values(by=['Team'],inplace=True)"
   ]
  },
  {
   "cell_type": "code",
   "execution_count": 27,
   "metadata": {},
   "outputs": [],
   "source": [
    "dftemp.sort_values(by=['Team'],inplace=True)"
   ]
  },
  {
   "cell_type": "code",
   "execution_count": 28,
   "metadata": {},
   "outputs": [],
   "source": [
    "#updating the OOBP column with the predicted values\n",
    "dftemp['OOBP']=newdf['OOBP'].iloc[0]"
   ]
  },
  {
   "cell_type": "code",
   "execution_count": 29,
   "metadata": {},
   "outputs": [
    {
     "data": {
      "text/plain": [
       "Team              0\n",
       "League            0\n",
       "Year              0\n",
       "RS                0\n",
       "RA                0\n",
       "W                 0\n",
       "OBP               0\n",
       "SLG               0\n",
       "BA                0\n",
       "Playoffs          0\n",
       "RankSeason      748\n",
       "RankPlayoffs    748\n",
       "G                 0\n",
       "OOBP            902\n",
       "OSLG            812\n",
       "RD                0\n",
       "dtype: int64"
      ]
     },
     "execution_count": 29,
     "metadata": {},
     "output_type": "execute_result"
    }
   ],
   "source": [
    "dftemp.isnull().sum()"
   ]
  },
  {
   "cell_type": "markdown",
   "metadata": {},
   "source": [
    "#### imputing 'OSLG'"
   ]
  },
  {
   "cell_type": "code",
   "execution_count": 30,
   "metadata": {},
   "outputs": [
    {
     "ename": "ValueError",
     "evalue": "Input contains NaN, infinity or a value too large for dtype('float64').",
     "output_type": "error",
     "traceback": [
      "\u001b[1;31m---------------------------------------------------------------------------\u001b[0m",
      "\u001b[1;31mValueError\u001b[0m                                Traceback (most recent call last)",
      "\u001b[1;32m<ipython-input-30-e5f141a637e5>\u001b[0m in \u001b[0;36m<module>\u001b[1;34m\u001b[0m\n\u001b[0;32m     10\u001b[0m \u001b[1;32mfrom\u001b[0m \u001b[0msklearn\u001b[0m\u001b[1;33m.\u001b[0m\u001b[0mneighbors\u001b[0m \u001b[1;32mimport\u001b[0m \u001b[0mKNeighborsRegressor\u001b[0m\u001b[1;33m\u001b[0m\u001b[1;33m\u001b[0m\u001b[0m\n\u001b[0;32m     11\u001b[0m \u001b[0mknn\u001b[0m \u001b[1;33m=\u001b[0m \u001b[0mKNeighborsRegressor\u001b[0m\u001b[1;33m(\u001b[0m\u001b[0mn_neighbors\u001b[0m\u001b[1;33m=\u001b[0m\u001b[1;36m5\u001b[0m\u001b[1;33m)\u001b[0m\u001b[1;33m\u001b[0m\u001b[1;33m\u001b[0m\u001b[0m\n\u001b[1;32m---> 12\u001b[1;33m \u001b[0mknn\u001b[0m\u001b[1;33m.\u001b[0m\u001b[0mfit\u001b[0m\u001b[1;33m(\u001b[0m\u001b[0mx\u001b[0m\u001b[1;33m,\u001b[0m\u001b[0my\u001b[0m\u001b[1;33m)\u001b[0m\u001b[1;33m\u001b[0m\u001b[1;33m\u001b[0m\u001b[0m\n\u001b[0m\u001b[0;32m     13\u001b[0m \u001b[1;31m#reseting index of test data for prediction\u001b[0m\u001b[1;33m\u001b[0m\u001b[1;33m\u001b[0m\u001b[1;33m\u001b[0m\u001b[0m\n\u001b[0;32m     14\u001b[0m \u001b[0mdftempfin\u001b[0m\u001b[1;33m.\u001b[0m\u001b[0mreset_index\u001b[0m\u001b[1;33m(\u001b[0m\u001b[0mdrop\u001b[0m\u001b[1;33m=\u001b[0m\u001b[1;32mTrue\u001b[0m\u001b[1;33m,\u001b[0m\u001b[0minplace\u001b[0m\u001b[1;33m=\u001b[0m\u001b[1;32mTrue\u001b[0m\u001b[1;33m)\u001b[0m\u001b[1;33m\u001b[0m\u001b[1;33m\u001b[0m\u001b[0m\n",
      "\u001b[1;32m~\\Anaconda3\\lib\\site-packages\\sklearn\\neighbors\\base.py\u001b[0m in \u001b[0;36mfit\u001b[1;34m(self, X, y)\u001b[0m\n\u001b[0;32m    870\u001b[0m         \"\"\"\n\u001b[0;32m    871\u001b[0m         \u001b[1;32mif\u001b[0m \u001b[1;32mnot\u001b[0m \u001b[0misinstance\u001b[0m\u001b[1;33m(\u001b[0m\u001b[0mX\u001b[0m\u001b[1;33m,\u001b[0m \u001b[1;33m(\u001b[0m\u001b[0mKDTree\u001b[0m\u001b[1;33m,\u001b[0m \u001b[0mBallTree\u001b[0m\u001b[1;33m)\u001b[0m\u001b[1;33m)\u001b[0m\u001b[1;33m:\u001b[0m\u001b[1;33m\u001b[0m\u001b[1;33m\u001b[0m\u001b[0m\n\u001b[1;32m--> 872\u001b[1;33m             \u001b[0mX\u001b[0m\u001b[1;33m,\u001b[0m \u001b[0my\u001b[0m \u001b[1;33m=\u001b[0m \u001b[0mcheck_X_y\u001b[0m\u001b[1;33m(\u001b[0m\u001b[0mX\u001b[0m\u001b[1;33m,\u001b[0m \u001b[0my\u001b[0m\u001b[1;33m,\u001b[0m \u001b[1;34m\"csr\"\u001b[0m\u001b[1;33m,\u001b[0m \u001b[0mmulti_output\u001b[0m\u001b[1;33m=\u001b[0m\u001b[1;32mTrue\u001b[0m\u001b[1;33m)\u001b[0m\u001b[1;33m\u001b[0m\u001b[1;33m\u001b[0m\u001b[0m\n\u001b[0m\u001b[0;32m    873\u001b[0m         \u001b[0mself\u001b[0m\u001b[1;33m.\u001b[0m\u001b[0m_y\u001b[0m \u001b[1;33m=\u001b[0m \u001b[0my\u001b[0m\u001b[1;33m\u001b[0m\u001b[1;33m\u001b[0m\u001b[0m\n\u001b[0;32m    874\u001b[0m         \u001b[1;32mreturn\u001b[0m \u001b[0mself\u001b[0m\u001b[1;33m.\u001b[0m\u001b[0m_fit\u001b[0m\u001b[1;33m(\u001b[0m\u001b[0mX\u001b[0m\u001b[1;33m)\u001b[0m\u001b[1;33m\u001b[0m\u001b[1;33m\u001b[0m\u001b[0m\n",
      "\u001b[1;32m~\\Anaconda3\\lib\\site-packages\\sklearn\\utils\\validation.py\u001b[0m in \u001b[0;36mcheck_X_y\u001b[1;34m(X, y, accept_sparse, accept_large_sparse, dtype, order, copy, force_all_finite, ensure_2d, allow_nd, multi_output, ensure_min_samples, ensure_min_features, y_numeric, warn_on_dtype, estimator)\u001b[0m\n\u001b[0;32m    717\u001b[0m                     \u001b[0mensure_min_features\u001b[0m\u001b[1;33m=\u001b[0m\u001b[0mensure_min_features\u001b[0m\u001b[1;33m,\u001b[0m\u001b[1;33m\u001b[0m\u001b[1;33m\u001b[0m\u001b[0m\n\u001b[0;32m    718\u001b[0m                     \u001b[0mwarn_on_dtype\u001b[0m\u001b[1;33m=\u001b[0m\u001b[0mwarn_on_dtype\u001b[0m\u001b[1;33m,\u001b[0m\u001b[1;33m\u001b[0m\u001b[1;33m\u001b[0m\u001b[0m\n\u001b[1;32m--> 719\u001b[1;33m                     estimator=estimator)\n\u001b[0m\u001b[0;32m    720\u001b[0m     \u001b[1;32mif\u001b[0m \u001b[0mmulti_output\u001b[0m\u001b[1;33m:\u001b[0m\u001b[1;33m\u001b[0m\u001b[1;33m\u001b[0m\u001b[0m\n\u001b[0;32m    721\u001b[0m         y = check_array(y, 'csr', force_all_finite=True, ensure_2d=False,\n",
      "\u001b[1;32m~\\Anaconda3\\lib\\site-packages\\sklearn\\utils\\validation.py\u001b[0m in \u001b[0;36mcheck_array\u001b[1;34m(array, accept_sparse, accept_large_sparse, dtype, order, copy, force_all_finite, ensure_2d, allow_nd, ensure_min_samples, ensure_min_features, warn_on_dtype, estimator)\u001b[0m\n\u001b[0;32m    540\u001b[0m         \u001b[1;32mif\u001b[0m \u001b[0mforce_all_finite\u001b[0m\u001b[1;33m:\u001b[0m\u001b[1;33m\u001b[0m\u001b[1;33m\u001b[0m\u001b[0m\n\u001b[0;32m    541\u001b[0m             _assert_all_finite(array,\n\u001b[1;32m--> 542\u001b[1;33m                                allow_nan=force_all_finite == 'allow-nan')\n\u001b[0m\u001b[0;32m    543\u001b[0m \u001b[1;33m\u001b[0m\u001b[0m\n\u001b[0;32m    544\u001b[0m     \u001b[1;32mif\u001b[0m \u001b[0mensure_min_samples\u001b[0m \u001b[1;33m>\u001b[0m \u001b[1;36m0\u001b[0m\u001b[1;33m:\u001b[0m\u001b[1;33m\u001b[0m\u001b[1;33m\u001b[0m\u001b[0m\n",
      "\u001b[1;32m~\\Anaconda3\\lib\\site-packages\\sklearn\\utils\\validation.py\u001b[0m in \u001b[0;36m_assert_all_finite\u001b[1;34m(X, allow_nan)\u001b[0m\n\u001b[0;32m     54\u001b[0m                 not allow_nan and not np.isfinite(X).all()):\n\u001b[0;32m     55\u001b[0m             \u001b[0mtype_err\u001b[0m \u001b[1;33m=\u001b[0m \u001b[1;34m'infinity'\u001b[0m \u001b[1;32mif\u001b[0m \u001b[0mallow_nan\u001b[0m \u001b[1;32melse\u001b[0m \u001b[1;34m'NaN, infinity'\u001b[0m\u001b[1;33m\u001b[0m\u001b[1;33m\u001b[0m\u001b[0m\n\u001b[1;32m---> 56\u001b[1;33m             \u001b[1;32mraise\u001b[0m \u001b[0mValueError\u001b[0m\u001b[1;33m(\u001b[0m\u001b[0mmsg_err\u001b[0m\u001b[1;33m.\u001b[0m\u001b[0mformat\u001b[0m\u001b[1;33m(\u001b[0m\u001b[0mtype_err\u001b[0m\u001b[1;33m,\u001b[0m \u001b[0mX\u001b[0m\u001b[1;33m.\u001b[0m\u001b[0mdtype\u001b[0m\u001b[1;33m)\u001b[0m\u001b[1;33m)\u001b[0m\u001b[1;33m\u001b[0m\u001b[1;33m\u001b[0m\u001b[0m\n\u001b[0m\u001b[0;32m     57\u001b[0m     \u001b[1;31m# for object dtype data, we only check for NaNs (GH-13254)\u001b[0m\u001b[1;33m\u001b[0m\u001b[1;33m\u001b[0m\u001b[1;33m\u001b[0m\u001b[0m\n\u001b[0;32m     58\u001b[0m     \u001b[1;32melif\u001b[0m \u001b[0mX\u001b[0m\u001b[1;33m.\u001b[0m\u001b[0mdtype\u001b[0m \u001b[1;33m==\u001b[0m \u001b[0mnp\u001b[0m\u001b[1;33m.\u001b[0m\u001b[0mdtype\u001b[0m\u001b[1;33m(\u001b[0m\u001b[1;34m'object'\u001b[0m\u001b[1;33m)\u001b[0m \u001b[1;32mand\u001b[0m \u001b[1;32mnot\u001b[0m \u001b[0mallow_nan\u001b[0m\u001b[1;33m:\u001b[0m\u001b[1;33m\u001b[0m\u001b[1;33m\u001b[0m\u001b[0m\n",
      "\u001b[1;31mValueError\u001b[0m: Input contains NaN, infinity or a value too large for dtype('float64')."
     ]
    }
   ],
   "source": [
    "#since 'RankSeason','RankPlayoffs' has a lot of Nan values,droping them\n",
    "dftemp1=dftemp.drop(columns=['RankSeason','RankPlayoffs'])\n",
    "#preparing data from prediction\n",
    "dftemptrain=dftemp1[dftemp1['OSLG'].isnull()!=True]#training data where there are no null values\n",
    "dftempfin=dftemp1[dftemp1['OSLG'].isnull()==True]#data for which 'OSLG' must be predicted ,(OSLG with ~Nan values)\n",
    "#seting independent and dependent variables\n",
    "x=dftemptrain.drop(columns=['OSLG','Team','League'])\n",
    "y=dftemptrain.OSLG\n",
    "#fitting the model with train data for prediction\n",
    "from sklearn.neighbors import KNeighborsRegressor\n",
    "knn = KNeighborsRegressor(n_neighbors=5)\n",
    "knn.fit(x,y)\n",
    "#reseting index of test data for prediction\n",
    "dftempfin.reset_index(drop=True,inplace=True)\n",
    "#Adding the predicted values to empty 'OSLG' column\n",
    "dftempfin['OSLG']=pd.DataFrame(knn.predict(dftempfin.drop(columns=['OSLG','Team','League'])))\n",
    "#reseting index of train data frame so as to merge appropriately\n",
    "dftemptrain.set_index(np.arange(813,813+dftemptrain.shape[0]),inplace=True)\n",
    "#the final data after replacing all Nan in OSLG with predicted values of OSLG\n",
    "newdf=pd.concat((dftempfin,dftemptrain),axis=0)\n",
    "newdf.sort_values(by=['Team'],inplace=True)\n",
    "dftemp.sort_values(by=['Team'],inplace=True)\n",
    "#updating the OSLG column with the predicted values\n",
    "dftemp['OSLG']=newdf['OSLG'].iloc[0]"
   ]
  },
  {
   "cell_type": "code",
   "execution_count": null,
   "metadata": {},
   "outputs": [],
   "source": [
    "dftemp.head()"
   ]
  },
  {
   "cell_type": "markdown",
   "metadata": {},
   "source": [
    "#### imputing 'RankSeason'"
   ]
  },
  {
   "cell_type": "code",
   "execution_count": null,
   "metadata": {},
   "outputs": [],
   "source": [
    "#since 'RankPlayoffs' has a lot of Nan values,droping them\n",
    "dftemp1=dftemp.drop(columns=['RankPlayoffs'])\n",
    "#preparing data from prediction\n",
    "dftemptrain=dftemp1[dftemp1['RankSeason'].isnull()!=True]#training data where there are no null values\n",
    "dftempfin=dftemp1[dftemp1['RankSeason'].isnull()==True]#data for which 'OSLG' must be predicted ,(OSLG with ~Nan values)\n",
    "#seting independent and dependent variables\n",
    "x=dftemptrain.drop(columns=['RankSeason','Team','League'])\n",
    "y=dftemptrain.RankSeason\n",
    "#fitting the model with train data for prediction\n",
    "from sklearn.neighbors import KNeighborsRegressor\n",
    "knn = KNeighborsRegressor(n_neighbors=2)\n",
    "knn.fit(x,y)\n",
    "#reseting index of test data for prediction\n",
    "dftempfin.reset_index(drop=True,inplace=True)\n",
    "#Adding the predicted values to empty 'RankSeason' column\n",
    "dftempfin['RankSeason']=pd.DataFrame(knn.predict(dftempfin.drop(columns=['RankSeason','Team','League'])))\n",
    "#reseting index of train data frame so as to merge appropriately\n",
    "dftemptrain.set_index(np.arange(813,813+dftemptrain.shape[0]),inplace=True)\n",
    "#the final data after replacing all Nan in RankSeason with predicted values of RankSeason\n",
    "newdf=pd.concat((dftempfin,dftemptrain),axis=0)\n",
    "newdf.sort_values(by=['Team'],inplace=True)\n",
    "dftemp.sort_values(by=['Team'],inplace=True)\n",
    "#updating the RankSeason column with the predicted values\n",
    "dftemp['RankSeason']=newdf['RankSeason'].iloc[0]"
   ]
  },
  {
   "cell_type": "code",
   "execution_count": null,
   "metadata": {
    "scrolled": false
   },
   "outputs": [],
   "source": [
    "dftemp.head()"
   ]
  },
  {
   "cell_type": "markdown",
   "metadata": {},
   "source": [
    "#### imputing 'RankPlayoffs'"
   ]
  },
  {
   "cell_type": "code",
   "execution_count": null,
   "metadata": {},
   "outputs": [],
   "source": [
    "dftemp1=dftemp\n",
    "#preparing data from prediction\n",
    "dftemptrain=dftemp1[dftemp1['RankPlayoffs'].isnull()!=True]#training data where there are no null values\n",
    "dftempfin=dftemp1[dftemp1['RankPlayoffs'].isnull()==True]#data for which 'RankPlayoffs' must be predicted ,(RankPlayoffs with ~Nan values)\n",
    "#seting independent and dependent variables\n",
    "x=dftemptrain.drop(columns=['RankPlayoffs','Team','League'])\n",
    "y=dftemptrain.RankPlayoffs\n",
    "#fitting the model with train data for prediction\n",
    "from sklearn.neighbors import KNeighborsRegressor\n",
    "knn = KNeighborsRegressor(n_neighbors=2)\n",
    "knn.fit(x,y)\n",
    "#reseting index of test data for prediction\n",
    "dftempfin.reset_index(drop=True,inplace=True)\n",
    "#Adding the predicted values to empty 'RankSeason' column\n",
    "dftempfin['RankPlayoffs']=pd.DataFrame(knn.predict(dftempfin.drop(columns=['RankPlayoffs','Team','League'])))\n",
    "#reseting index of train data frame so as to merge appropriately\n",
    "dftemptrain.set_index(np.arange(813,813+dftemptrain.shape[0]),inplace=True)\n",
    "#the final data after replacing all Nan in RankPlayoffs with predicted values of RankPlayoffs\n",
    "newdf=pd.concat((dftempfin,dftemptrain),axis=0)\n",
    "newdf.sort_values(by=['Team'],inplace=True)\n",
    "dftemp.sort_values(by=['Team'],inplace=True)\n",
    "#updating the RankPlayoffs column with the predicted values\n",
    "dftemp['RankPlayoffs']=newdf['RankPlayoffs'].iloc[0]"
   ]
  },
  {
   "cell_type": "code",
   "execution_count": null,
   "metadata": {},
   "outputs": [],
   "source": [
    "dftemp.head()"
   ]
  },
  {
   "cell_type": "code",
   "execution_count": null,
   "metadata": {},
   "outputs": [],
   "source": [
    "dftemp.shape"
   ]
  },
  {
   "cell_type": "code",
   "execution_count": null,
   "metadata": {},
   "outputs": [],
   "source": [
    "# RS = B0 +B1*OBP + B2*SLG\n",
    "x=dftemp[['OBP','SLG']]\n",
    "y=dftemp.RS\n",
    "LR1 = LinearRegression()\n",
    "LR1.fit(x,y)\n",
    "r2=LR1.score(x,y)\n",
    "print(\"R2 : \",r2)\n",
    "print(\"coef: \",LR1.coef_)\n",
    "print(\"intercept: \",LR1.intercept_)"
   ]
  },
  {
   "cell_type": "code",
   "execution_count": null,
   "metadata": {},
   "outputs": [],
   "source": [
    "LR1.predict([[0.339,0.430]])"
   ]
  },
  {
   "cell_type": "code",
   "execution_count": null,
   "metadata": {},
   "outputs": [],
   "source": [
    "# RA = B0 +B1*OOBP + B2*OSLG\n",
    "x=dftemp[['OOBP','OSLG']]\n",
    "y=dftemp.RA\n",
    "LR0 = LinearRegression()\n",
    "LR0.fit(x,y)\n",
    "r2=LR0.score(x,y)\n",
    "print(\"R2 : \",r2)\n",
    "print(\"coef: \",LR0.coef_)\n",
    "print(\"intercept: \",LR0.intercept_)"
   ]
  },
  {
   "cell_type": "code",
   "execution_count": null,
   "metadata": {},
   "outputs": [],
   "source": [
    "LR0.predict([[0.307,0.373]])"
   ]
  },
  {
   "cell_type": "code",
   "execution_count": null,
   "metadata": {},
   "outputs": [],
   "source": [
    "#W = B0 + B1*RD\n",
    "x=dftemp[['RD']]\n",
    "y=dftemp.W\n",
    "LR2 = LinearRegression()\n",
    "LR2.fit(x,y)\n",
    "r2=LR2.score(x,y)\n",
    "print(\"R2 : \",r2)\n",
    "print(\"coef: \",LR2.coef_)\n",
    "print(\"intercept: \",LR2.intercept_)"
   ]
  },
  {
   "cell_type": "code",
   "execution_count": null,
   "metadata": {},
   "outputs": [],
   "source": [
    "LR2.predict([[(805.60575215-678.05700507)]])"
   ]
  },
  {
   "cell_type": "code",
   "execution_count": null,
   "metadata": {},
   "outputs": [],
   "source": []
  },
  {
   "cell_type": "code",
   "execution_count": null,
   "metadata": {},
   "outputs": [],
   "source": []
  },
  {
   "cell_type": "code",
   "execution_count": null,
   "metadata": {},
   "outputs": [],
   "source": []
  }
 ],
 "metadata": {
  "kernelspec": {
   "display_name": "Python 3",
   "language": "python",
   "name": "python3"
  },
  "language_info": {
   "codemirror_mode": {
    "name": "ipython",
    "version": 3
   },
   "file_extension": ".py",
   "mimetype": "text/x-python",
   "name": "python",
   "nbconvert_exporter": "python",
   "pygments_lexer": "ipython3",
   "version": "3.7.3"
  }
 },
 "nbformat": 4,
 "nbformat_minor": 2
}
